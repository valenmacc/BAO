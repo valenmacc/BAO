{
  "cells": [
    {
      "cell_type": "code",
      "execution_count": 1,
      "metadata": {
        "id": "-8ruO1it7PbZ"
      },
      "outputs": [],
      "source": [
        "import copy\n",
        "#import numpy as np\n",
        "from typing import List, Dict"
      ]
    },
    {
      "cell_type": "code",
      "execution_count": 2,
      "metadata": {},
      "outputs": [
        {
          "data": {
            "text/plain": [
              "'     def _initialize(pieza, x_pos, y_pos):\\n        self.pieza = pieza\\n        self.x_pos = x_pos\\n        self.y_pos = y_pos '"
            ]
          },
          "execution_count": 2,
          "metadata": {},
          "output_type": "execute_result"
        }
      ],
      "source": [
        "class PiezaClase:\n",
        "    def __init__(self, pieza, x_pos, y_pos):\n",
        "        self.pieza = pieza\n",
        "        self.x_pos = x_pos\n",
        "        self.y_pos = y_pos\n",
        "    \n",
        "\"\"\"     def _initialize(pieza, x_pos, y_pos):\n",
        "        self.pieza = pieza\n",
        "        self.x_pos = x_pos\n",
        "        self.y_pos = y_pos \"\"\""
      ]
    },
    {
      "cell_type": "code",
      "execution_count": 3,
      "metadata": {
        "colab": {
          "base_uri": "https://localhost:8080/"
        },
        "id": "n0sgYTd6v9YE",
        "outputId": "9a7ed4c0-1398-4a5b-8a97-220839aa39fa"
      },
      "outputs": [
        {
          "name": "stdout",
          "output_type": "stream",
          "text": [
            "[[0, 1, 0, 1], [0, 1, 0, 1], [0, 0, 1, 0], [0, 1, 1, 1]]\n",
            "[[0, 1, 0, 1], [0, 1, 0, 1], [0, 0, 1, 0], [0, 1, 1, 1]]\n",
            "[5, 2, 1]\n"
          ]
        }
      ],
      "source": [
        "def explore_adyacent(temp, x, y): #hay que marcar la celda inicial antes de llamarla\n",
        "    area = 0\n",
        "    # Verificar si la celda adyacente está dentro de los límites del espacio\n",
        "    if x + 1 < len(temp) and temp[x+1][y] == 0:\n",
        "        temp[x+1][y] = 1\n",
        "        area += explore_adyacent(temp, x+1, y)\n",
        "    if x - 1 >= 0 and temp[x-1][y] == 0:\n",
        "        temp[x-1][y] = 1\n",
        "        area += explore_adyacent(temp, x-1, y)\n",
        "    if y + 1 < len(temp[0]) and temp[x][y+1] == 0:\n",
        "        temp[x][y+1] = 1\n",
        "        area += explore_adyacent(temp, x, y+1)\n",
        "    if y - 1 >= 0 and temp[x][y-1] == 0:\n",
        "        temp[x][y-1] = 1\n",
        "        area += explore_adyacent(temp, x, y-1)\n",
        "    if temp[x][y]:\n",
        "        area += 1\n",
        "    return area\n",
        "\n",
        "\n",
        "def huecos (mat):\n",
        "  matrix = copy.deepcopy(mat)\n",
        "  array = []\n",
        "  for i in range(len(mat)):\n",
        "    for j in range(len(mat[0])):\n",
        "      if matrix[i][j] == 0:\n",
        "        matrix[i][j] = 1\n",
        "        array.append(explore_adyacent(matrix, i, j))\n",
        "  return array\n",
        "\n",
        "space =  [[0, 1, 0, 1],\n",
        "          [0, 1, 0, 1],\n",
        "          [0, 0, 1, 0],\n",
        "          [0, 1, 1, 1]]\n",
        "temp_area = copy.deepcopy(space)\n",
        "array = huecos(temp_area)\n",
        "print(space)\n",
        "print (temp_area)\n",
        "print (array)"
      ]
    },
    {
      "cell_type": "code",
      "execution_count": 4,
      "metadata": {},
      "outputs": [],
      "source": [
        "def clamp_to_zero(number):\n",
        "    if number < 0:\n",
        "        return 0\n",
        "    else:\n",
        "        return number"
      ]
    },
    {
      "cell_type": "markdown",
      "metadata": {},
      "source": [
        "FITNESS DEFINITION"
      ]
    },
    {
      "cell_type": "code",
      "execution_count": 5,
      "metadata": {
        "colab": {
          "base_uri": "https://localhost:8080/",
          "height": 108
        },
        "id": "zl9H9EGq7dsa",
        "outputId": "0ec2b0b8-745b-4958-b7ea-5cefdd8ad0ed"
      },
      "outputs": [],
      "source": [
        "def fitness(space, pieza, x, y):\n",
        "  valid = colocar_pieza(space, pieza, x, y)\n",
        "  espacios = huecos(space)\n",
        "  if not valid:\n",
        "    return 0\n",
        "  else:\n",
        "    value = 100\n",
        "    value = value - len(espacios) * 5 #penalizar numero de huecos\n",
        "    for hueco in espacios:\n",
        "      value = value - (1/hueco) * 3\n",
        "    return clamp_to_zero(value)"
      ]
    },
    {
      "cell_type": "code",
      "execution_count": 41,
      "metadata": {},
      "outputs": [],
      "source": [
        "def fitnessSinPieza(space):\n",
        "    espacios = huecos(space)\n",
        "    value = 100\n",
        "    value = value - len(espacios) * 5 #penalizar numero de huecos\n",
        "    for hueco in espacios:\n",
        "      value = value - (1/hueco) * 3\n",
        "    return clamp_to_zero(value)"
      ]
    },
    {
      "cell_type": "code",
      "execution_count": 6,
      "metadata": {
        "id": "5JBZADBV_gPs"
      },
      "outputs": [],
      "source": [
        "def colocar_pieza(space, pieza, x, y):\n",
        "    temp = copy.deepcopy(space)  # Deep copy the space to avoid modifying the original\n",
        "    if len(pieza)+x >= len(space) or len(pieza[0])+y >= len(space[0]):\n",
        "                return False  # Return False if the piece goes out of bounds\n",
        "    for i in range(len(pieza)):\n",
        "        for j in range(len(pieza[0])):\n",
        "            # Check bounds\n",
        "            if space[x+i][y+j] == 1:\n",
        "                return False  # Return False if there's an overlap\n",
        "            temp[x+i][y+j] = 1  # Place the piece in the temporary space\n",
        "    # Copy the modified temporary space back to the original space\n",
        "    for i in range(len(space)):\n",
        "        for j in range(len(space[0])):\n",
        "            space[i][j] = temp[i][j]\n",
        "    return True  # Return True if the piece was successfully placed"
      ]
    },
    {
      "cell_type": "code",
      "execution_count": 7,
      "metadata": {
        "colab": {
          "base_uri": "https://localhost:8080/"
        },
        "id": "J3YgaKDF19YI",
        "outputId": "0ce84623-9a9b-44b4-a816-354f7b16510b"
      },
      "outputs": [
        {
          "name": "stdout",
          "output_type": "stream",
          "text": [
            "1  1  1  1  1  1\n",
            "1  1  1  1  1  1\n",
            "1  1  1  1  1  1\n",
            "1  1  1  1  1  1\n",
            "coordenadas: x: 3 y: 6\n",
            "\n"
          ]
        }
      ],
      "source": [
        "#Función para crear la pieza, empezamos creando piezas de un máximo de area de 3x3, para empezar con una versión sencilla del problema, haremos que las piezas inicialmente solo puedan ser cuadrados de 1x1, 2x2 o 3x3.\n",
        "\n",
        "import random\n",
        "\n",
        "def generar_pieza():\n",
        "    # Inicializamos una matriz vacía\n",
        "    sizex = random.randint(1, 6)\n",
        "    sizey = random.randint(1, 6)\n",
        "    pieza = [[1 for column in range(sizex)] for row in range(sizey)]\n",
        "    return pieza\n",
        "\n",
        "\n",
        "def imprimir_pieza(pieza:PiezaClase):\n",
        "    for row in pieza.pieza:\n",
        "        print(\"  \".join(map(str, row)))\n",
        "    print(\"coordenadas: x:\",pieza.x_pos, \"y:\",pieza.y_pos)\n",
        "    print()\n",
        "\n",
        "def imprimir_espacio(space):\n",
        "    for row in space:\n",
        "        print(\"  \".join(map(str, row)))\n",
        "    print()\n",
        "\n",
        "\n",
        "\n",
        "# Ejemplo de uso\n",
        "if __name__ == \"__main__\":\n",
        "    pieza = PiezaClase(generar_pieza(),random.randint(1, 6),random.randint(1, 6))\n",
        "    imprimir_pieza(pieza)"
      ]
    },
    {
      "cell_type": "code",
      "execution_count": 8,
      "metadata": {
        "colab": {
          "base_uri": "https://localhost:8080/"
        },
        "id": "9N1R4uKB9NiG",
        "outputId": "e8e7bace-493a-4ae2-9956-826b4a9a5dff"
      },
      "outputs": [
        {
          "name": "stdout",
          "output_type": "stream",
          "text": [
            "1  1  1  1\n",
            "1  1  1  1\n",
            "coordenadas: x: 0 y: 0\n",
            "\n",
            "94.98790322580645\n",
            "inicial: \n",
            "1  1  1  1  0  0  0  0  0  0  0  0  0  0  0  0\n",
            "1  1  1  1  0  0  0  0  0  0  0  0  0  0  0  0\n",
            "0  0  0  0  0  0  0  0  0  0  0  0  0  0  0  0\n",
            "0  0  0  0  0  0  0  0  0  0  0  0  0  0  0  0\n",
            "0  0  0  0  0  0  0  0  0  0  0  0  0  0  0  0\n",
            "0  0  0  0  0  0  0  0  0  0  0  0  0  0  0  0\n",
            "0  0  0  0  0  0  0  0  0  0  0  0  0  0  0  0\n",
            "0  0  0  0  0  0  0  0  0  0  0  0  0  0  0  0\n",
            "0  0  0  0  0  0  0  0  0  0  0  0  0  0  0  0\n",
            "0  0  0  0  0  0  0  0  0  0  0  0  0  0  0  0\n",
            "0  0  0  0  0  0  0  0  0  0  0  0  0  0  0  0\n",
            "0  0  0  0  0  0  0  0  0  0  0  0  0  0  0  0\n",
            "0  0  0  0  0  0  0  0  0  0  0  0  0  0  0  0\n",
            "0  0  0  0  0  0  0  0  0  0  0  0  0  0  0  0\n",
            "0  0  0  0  0  0  0  0  0  0  0  0  0  0  0  0\n",
            "0  0  0  0  0  0  0  0  0  0  0  0  0  0  0  0\n",
            "\n",
            "[[1, 1, 1, 1, 0, 0, 0, 0, 0, 0, 0, 0, 0, 0, 0, 0], [1, 1, 1, 1, 0, 0, 0, 0, 0, 0, 0, 0, 0, 0, 0, 0], [0, 0, 0, 0, 0, 0, 0, 0, 0, 0, 0, 0, 0, 0, 0, 0], [0, 0, 0, 0, 0, 0, 0, 0, 0, 0, 0, 0, 0, 0, 0, 0], [0, 0, 0, 0, 0, 0, 0, 0, 0, 0, 0, 0, 0, 0, 0, 0], [0, 0, 0, 0, 0, 0, 0, 0, 0, 0, 0, 0, 0, 0, 0, 0], [0, 0, 0, 0, 0, 0, 0, 0, 0, 0, 0, 0, 0, 0, 0, 0], [0, 0, 0, 0, 0, 0, 0, 0, 0, 0, 0, 0, 0, 0, 0, 0], [0, 0, 0, 0, 0, 0, 0, 0, 0, 0, 0, 0, 0, 0, 0, 0], [0, 0, 0, 0, 0, 0, 0, 0, 0, 0, 0, 0, 0, 0, 0, 0], [0, 0, 0, 0, 0, 0, 0, 0, 0, 0, 0, 0, 0, 0, 0, 0], [0, 0, 0, 0, 0, 0, 0, 0, 0, 0, 0, 0, 0, 0, 0, 0], [0, 0, 0, 0, 0, 0, 0, 0, 0, 0, 0, 0, 0, 0, 0, 0], [0, 0, 0, 0, 0, 0, 0, 0, 0, 0, 0, 0, 0, 0, 0, 0], [0, 0, 0, 0, 0, 0, 0, 0, 0, 0, 0, 0, 0, 0, 0, 0], [0, 0, 0, 0, 0, 0, 0, 0, 0, 0, 0, 0, 0, 0, 0, 0]]\n",
            "[248]\n"
          ]
        }
      ],
      "source": [
        "\n",
        "x = 16\n",
        "y = 16\n",
        "space = [[0 for column in range(x)] for row in range(y)]\n",
        "\n",
        "x_pos = 0\n",
        "y_pos = 0\n",
        "#print(x_pos,y_pos)\n",
        "#pieza = generar_pieza()\n",
        "pieza2 = PiezaClase(generar_pieza(),0,0)\n",
        "imprimir_pieza(pieza2)\n",
        "print(fitness(space, pieza2.pieza, pieza2.x_pos, pieza2.y_pos))\n",
        "\n",
        "\n",
        "print(\"inicial: \")\n",
        "imprimir_espacio(space)\n",
        "temp_area = copy.deepcopy(space)\n",
        "array = huecos(temp_area)\n",
        "\n",
        "print (temp_area)\n",
        "print (array)"
      ]
    },
    {
      "cell_type": "markdown",
      "metadata": {},
      "source": [
        "PRIMERA IMPLEMENTACION DE ACO"
      ]
    },
    {
      "cell_type": "code",
      "execution_count": 63,
      "metadata": {},
      "outputs": [],
      "source": [
        "#Genero el espacio donde colocamos las piezas\n",
        "x = 16\n",
        "y = 16\n",
        "space = [[0 for column in range(x)] for row in range(y)]\n",
        "\n",
        "#Genero un array de piezas\n",
        "piezas = []\n",
        "for i in range(10):\n",
        "    piezaIndividual = PiezaClase(generar_pieza(),random.randint(0, 15),random.randint(0, 15))\n",
        "    piezas.append(piezaIndividual)\n",
        "    \n",
        "    #imprimir_pieza(piezas[i])"
      ]
    },
    {
      "cell_type": "code",
      "execution_count": null,
      "metadata": {},
      "outputs": [],
      "source": [
        "\"\"\" def generar_sol(space):\n",
        "    temp = PiezaClase\n",
        "    sol = []\n",
        "    for i in range(10):\n",
        "        temp = piezas[random.randint(0,9)] #hacerlo clase PiezaClase\n",
        "        if (fitness(space, temp.pieza, temp.x_pos, temp.y_pos) != 0):\n",
        "            sol.append(temp)\n",
        "    return(sol) \"\"\""
      ]
    },
    {
      "cell_type": "code",
      "execution_count": 68,
      "metadata": {},
      "outputs": [],
      "source": [
        "#El array sol contiene n arrays, donde n es len de piezas, en los cuales el primer valor es\n",
        "# si se pone o no se pone le pieza y los otros dos la posicion\n",
        "# En caso de que se ponga se intenta colocar por ahora de manera aleatoria 50 veces, si no se consigue se pone como False\n",
        "# esto despues se hara con feromonas y tal pero por ahora random\n",
        "def generar_sol(space):\n",
        "    sol = [[0 for column in range(0,3)] for row in range(len(piezas))]\n",
        "    for i in range(len(piezas)):\n",
        "        sol[i][0] = random.choice([True, False])\n",
        "        if (sol[i][0] == True):\n",
        "            for j in range (0,50):\n",
        "                posTempX = random.randint(0, 15)\n",
        "                posTempY = random.randint(0, 15)\n",
        "                if(fitness(space,piezas[i].pieza,posTempX, posTempY) != 0):\n",
        "                    sol[i][1] = posTempX\n",
        "                    sol[i][2] = posTempY\n",
        "                    break\n",
        "                elif(j == 10):\n",
        "                    sol[i][0] = False\n",
        "                    sol[i][1] = -1\n",
        "                    sol[i][2] = -1\n",
        "        else:\n",
        "            sol[i][1] = -1\n",
        "            sol[i][2] = -1\n",
        "    return sol\n",
        "\n",
        "# print(generar_sol(space))\n",
        "# imprimir_espacio(space)\n",
        "# print(fitnessSinPieza(space))"
      ]
    },
    {
      "cell_type": "code",
      "execution_count": 69,
      "metadata": {},
      "outputs": [
        {
          "name": "stdout",
          "output_type": "stream",
          "text": [
            "71.5 [[False, -1, -1], [False, -1, -1], [True, 6, 0], [False, -1, -1], [True, 10, 7], [True, 6, 6], [False, -1, -1], [False, -1, -1], [False, -1, -1], [True, 1, 6]]\n",
            "70.0 [[False, -1, -1], [False, -1, -1], [False, -1, -1], [True, 9, 9], [True, 12, 0], [False, -1, -1], [True, 1, 9], [True, 4, 12], [True, 8, 4], [False, -1, -1]]\n",
            "86.4 [[True, 5, 8], [False, -1, -1], [True, 4, 3], [True, 11, 8], [False, -1, -1], [False, -1, -1], [False, -1, -1], [False, -1, -1], [False, -1, -1], [True, 6, 7]]\n",
            "79.75 [[False, -1, -1], [False, -1, -1], [False, -1, -1], [False, -1, -1], [True, 13, 7], [False, -1, -1], [True, 1, 10], [False, -1, -1], [False, -1, -1], [True, 5, 2]]\n",
            "63.5 [[True, 0, 5], [False, -1, -1], [True, 6, 9], [True, 4, 0], [False, -1, -1], [False, -1, -1], [False, -1, -1], [True, 10, 2], [False, -1, -1], [False, -1, -1]]\n",
            "86.0 [[True, 14, 9], [False, -1, -1], [False, -1, -1], [False, -1, -1], [True, 7, 10], [False, -1, -1], [True, 6, 7], [True, 2, 4], [True, 10, 1], [True, 2, 10]]\n",
            "80.25 [[False, -1, -1], [True, 10, 6], [False, -1, -1], [False, -1, -1], [False, -1, -1], [False, -1, -1], [True, 5, 12], [False, -1, -1], [False, -1, -1], [False, -1, -1]]\n",
            "78.25 [[True, 3, 5], [True, 10, 4], [True, 4, 11], [False, 5, 3], [True, 12, 1], [True, 2, 0], [False, 10, 11], [False, -1, -1], [False, -1, -1], [False, 1, 9]]\n",
            "78.25 [[False, -1, -1], [True, 8, 7], [True, 2, 7], [True, 3, 2], [True, 8, 6], [True, 7, 0], [False, 9, 1], [False, 5, 11], [False, -1, -1], [False, -1, -1]]\n",
            "71.5 [[True, 14, 0], [True, 6, 7], [False, -1, -1], [False, -1, -1], [True, 4, 7], [False, -1, -1], [True, 10, 6], [False, -1, -1], [False, -1, -1], [False, -1, -1]]\n",
            "0  0  0  0  0  0  0  0  0  0  0  0  0  0  0  0\n",
            "0  0  0  0  0  0  0  0  0  0  0  0  0  0  0  0\n",
            "0  0  0  0  0  0  0  0  0  0  0  0  0  0  0  0\n",
            "0  0  0  0  0  0  0  0  0  0  0  0  0  0  0  0\n",
            "0  0  0  0  0  0  0  0  0  0  0  0  0  0  0  0\n",
            "0  0  0  0  0  0  0  0  0  0  0  0  0  0  0  0\n",
            "0  0  0  0  0  0  0  0  0  0  0  0  0  0  0  0\n",
            "0  0  0  0  0  0  0  0  0  0  0  0  0  0  0  0\n",
            "0  0  0  0  0  0  0  0  0  0  0  0  0  0  0  0\n",
            "0  0  0  0  0  0  0  0  0  0  0  0  0  0  0  0\n",
            "0  0  0  0  0  0  0  0  0  0  0  0  0  0  0  0\n",
            "0  0  0  0  0  0  0  0  0  0  0  0  0  0  0  0\n",
            "0  0  0  0  0  0  0  0  0  0  0  0  0  0  0  0\n",
            "0  0  0  0  0  0  0  0  0  0  0  0  0  0  0  0\n",
            "0  0  0  0  0  0  0  0  0  0  0  0  0  0  0  0\n",
            "0  0  0  0  0  0  0  0  0  0  0  0  0  0  0  0\n",
            "\n"
          ]
        }
      ],
      "source": [
        "#Genero el ACO\n",
        "pheromones = []\n",
        "best_solution = []\n",
        "numberAnts = 10\n",
        "for i in range(0,1):\n",
        "    caminos = []\n",
        "    for j in range(numberAnts):\n",
        "        solution = generar_sol(copy.deepcopy(space))\n",
        "        print(fitnessSinPieza(solution), solution) #TO DO, imprimir space con esta sol para leerlo mejor\n",
        "        caminos.append(solution)\n",
        "        fit = fitnessSinPieza(solution)\n",
        "        if(fit > fitnessSinPieza(best_solution)):\n",
        "            best_solution = solution\n",
        "    \n",
        "\n",
        "imprimir_espacio(space)"
      ]
    }
  ],
  "metadata": {
    "colab": {
      "provenance": []
    },
    "kernelspec": {
      "display_name": "Python 3",
      "name": "python3"
    },
    "language_info": {
      "codemirror_mode": {
        "name": "ipython",
        "version": 3
      },
      "file_extension": ".py",
      "mimetype": "text/x-python",
      "name": "python",
      "nbconvert_exporter": "python",
      "pygments_lexer": "ipython3",
      "version": "3.9.6"
    }
  },
  "nbformat": 4,
  "nbformat_minor": 0
}
