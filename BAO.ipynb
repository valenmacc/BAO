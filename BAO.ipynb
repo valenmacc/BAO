{
  "cells": [
    {
      "cell_type": "markdown",
      "metadata": {},
      "source": [
        "----TODO-----\n",
        "Actualizar feronomonas, sobre todo fitness por pieza\n",
        "Pruebas Fitness"
      ]
    },
    {
      "cell_type": "code",
      "execution_count": 1,
      "metadata": {
        "id": "-8ruO1it7PbZ"
      },
      "outputs": [],
      "source": [
        "import copy\n",
        "#import numpy as np\n",
        "from typing import List, Dict"
      ]
    },
    {
      "cell_type": "code",
      "execution_count": 2,
      "metadata": {},
      "outputs": [
        {
          "data": {
            "text/plain": [
              "'     def _initialize(pieza, x_pos, y_pos):\\n        self.pieza = pieza\\n        self.x_pos = x_pos\\n        self.y_pos = y_pos '"
            ]
          },
          "execution_count": 2,
          "metadata": {},
          "output_type": "execute_result"
        }
      ],
      "source": [
        "class PiezaClase:\n",
        "    def __init__(self, pieza, x_pos, y_pos):\n",
        "        self.pieza = pieza\n",
        "        self.x_pos = x_pos\n",
        "        self.y_pos = y_pos\n",
        "    \n",
        "\"\"\"     def _initialize(pieza, x_pos, y_pos):\n",
        "        self.pieza = pieza\n",
        "        self.x_pos = x_pos\n",
        "        self.y_pos = y_pos \"\"\""
      ]
    },
    {
      "cell_type": "code",
      "execution_count": 3,
      "metadata": {
        "colab": {
          "base_uri": "https://localhost:8080/"
        },
        "id": "n0sgYTd6v9YE",
        "outputId": "9a7ed4c0-1398-4a5b-8a97-220839aa39fa"
      },
      "outputs": [
        {
          "name": "stdout",
          "output_type": "stream",
          "text": [
            "[[0, 1, 0, 1], [0, 1, 0, 1], [0, 0, 1, 0], [0, 1, 1, 1]]\n",
            "[[0, 1, 0, 1], [0, 1, 0, 1], [0, 0, 1, 0], [0, 1, 1, 1]]\n",
            "[5, 2, 1]\n"
          ]
        }
      ],
      "source": [
        "def explore_adyacent(temp, x, y): #hay que marcar la celda inicial antes de llamarla\n",
        "    area = 0\n",
        "    # Verificar si la celda adyacente está dentro de los límites del espacio\n",
        "    if x + 1 < len(temp) and temp[x+1][y] == 0:\n",
        "        temp[x+1][y] = 1\n",
        "        area += explore_adyacent(temp, x+1, y)\n",
        "    if x - 1 >= 0 and temp[x-1][y] == 0:\n",
        "        temp[x-1][y] = 1\n",
        "        area += explore_adyacent(temp, x-1, y)\n",
        "    if y + 1 < len(temp[0]) and temp[x][y+1] == 0:\n",
        "        temp[x][y+1] = 1\n",
        "        area += explore_adyacent(temp, x, y+1)\n",
        "    if y - 1 >= 0 and temp[x][y-1] == 0:\n",
        "        temp[x][y-1] = 1\n",
        "        area += explore_adyacent(temp, x, y-1)\n",
        "    if temp[x][y]:\n",
        "        area += 1\n",
        "    return area\n",
        "\n",
        "\n",
        "def huecos (mat):\n",
        "  matrix = copy.deepcopy(mat)\n",
        "  array = []\n",
        "  for i in range(len(mat)):\n",
        "    for j in range(len(mat[0])):\n",
        "      if matrix[i][j] == 0:\n",
        "        matrix[i][j] = 1\n",
        "        array.append(explore_adyacent(matrix, i, j))\n",
        "  return array\n",
        "\n",
        "space =  [[0, 1, 0, 1],\n",
        "          [0, 1, 0, 1],\n",
        "          [0, 0, 1, 0],\n",
        "          [0, 1, 1, 1]]\n",
        "temp_area = copy.deepcopy(space)\n",
        "array = huecos(temp_area)\n",
        "print(space)\n",
        "print (temp_area)\n",
        "print (array)"
      ]
    },
    {
      "cell_type": "code",
      "execution_count": 4,
      "metadata": {},
      "outputs": [],
      "source": [
        "def clamp_to_zero(number):\n",
        "    if number < 0:\n",
        "        return 0\n",
        "    else:\n",
        "        return number"
      ]
    },
    {
      "cell_type": "markdown",
      "metadata": {},
      "source": [
        "FITNESS DEFINITION"
      ]
    },
    {
      "cell_type": "code",
      "execution_count": 5,
      "metadata": {
        "colab": {
          "base_uri": "https://localhost:8080/",
          "height": 108
        },
        "id": "zl9H9EGq7dsa",
        "outputId": "0ec2b0b8-745b-4958-b7ea-5cefdd8ad0ed"
      },
      "outputs": [],
      "source": [
        "def fitness(space, pieza, x, y):\n",
        "  valid = colocar_pieza(space, pieza, x, y)\n",
        "  espacios = huecos(space)\n",
        "  if not valid:\n",
        "    return 0\n",
        "  else:\n",
        "    value = 100\n",
        "    value = value - len(espacios) * 5 #penalizar numero de huecos\n",
        "    for hueco in espacios:\n",
        "      value = value - (1/hueco) * 3\n",
        "    return clamp_to_zero(value)"
      ]
    },
    {
      "cell_type": "code",
      "execution_count": 6,
      "metadata": {},
      "outputs": [],
      "source": [
        "def fitnessSinPieza(space):\n",
        "    espacios = huecos(space)\n",
        "    value = 100\n",
        "    value = value - len(espacios) * 5 #penalizar numero de huecos\n",
        "    for hueco in espacios:\n",
        "      value = value - (1/hueco) * 3\n",
        "    return clamp_to_zero(value)"
      ]
    },
    {
      "cell_type": "code",
      "execution_count": 7,
      "metadata": {
        "id": "5JBZADBV_gPs"
      },
      "outputs": [],
      "source": [
        "def colocar_pieza(space, pieza, x, y):\n",
        "    temp = copy.deepcopy(space)  # Deep copy the space to avoid modifying the original\n",
        "    if len(pieza)+x >= len(space) or len(pieza[0])+y >= len(space[0]):\n",
        "                return False  # Return False if the piece goes out of bounds\n",
        "    for i in range(len(pieza)):\n",
        "        for j in range(len(pieza[0])):\n",
        "            # Check bounds\n",
        "            if space[x+i][y+j] == 1:\n",
        "                return False  # Return False if there's an overlap\n",
        "            temp[x+i][y+j] = 1  # Place the piece in the temporary space\n",
        "    # Copy the modified temporary space back to the original space\n",
        "    for i in range(len(space)):\n",
        "        for j in range(len(space[0])):\n",
        "            space[i][j] = temp[i][j]\n",
        "    return True  # Return True if the piece was successfully placed"
      ]
    },
    {
      "cell_type": "code",
      "execution_count": 8,
      "metadata": {
        "colab": {
          "base_uri": "https://localhost:8080/"
        },
        "id": "J3YgaKDF19YI",
        "outputId": "0ce84623-9a9b-44b4-a816-354f7b16510b"
      },
      "outputs": [
        {
          "name": "stdout",
          "output_type": "stream",
          "text": [
            "1  1  1\n",
            "1  1  1\n",
            "1  1  1\n",
            "1  1  1\n",
            "1  1  1\n",
            "1  1  1\n",
            "coordenadas: x: 3 y: 1\n",
            "\n"
          ]
        }
      ],
      "source": [
        "#Función para crear la pieza, empezamos creando piezas de un máximo de area de 3x3, para empezar con una versión sencilla del problema, haremos que las piezas inicialmente solo puedan ser cuadrados de 1x1, 2x2 o 3x3.\n",
        "\n",
        "import random\n",
        "\n",
        "def generar_pieza():\n",
        "    # Inicializamos una matriz vacía\n",
        "    sizex = random.randint(1, 6)\n",
        "    sizey = random.randint(1, 6)\n",
        "    pieza = [[1 for column in range(sizex)] for row in range(sizey)]\n",
        "    return pieza\n",
        "\n",
        "\n",
        "def imprimir_pieza(pieza:PiezaClase):\n",
        "    for row in pieza.pieza:\n",
        "        print(\"  \".join(map(str, row)))\n",
        "    print(\"coordenadas: x:\",pieza.x_pos, \"y:\",pieza.y_pos)\n",
        "    print()\n",
        "\n",
        "def imprimir_espacio(space):\n",
        "    for row in space:\n",
        "        print(\"  \".join(map(str, row)))\n",
        "    print()\n",
        "\n",
        "\n",
        "\n",
        "# Ejemplo de uso\n",
        "if __name__ == \"__main__\":\n",
        "    pieza = PiezaClase(generar_pieza(),random.randint(1, 6),random.randint(1, 6))\n",
        "    imprimir_pieza(pieza)"
      ]
    },
    {
      "cell_type": "code",
      "execution_count": 9,
      "metadata": {
        "colab": {
          "base_uri": "https://localhost:8080/"
        },
        "id": "9N1R4uKB9NiG",
        "outputId": "e8e7bace-493a-4ae2-9956-826b4a9a5dff"
      },
      "outputs": [
        {
          "name": "stdout",
          "output_type": "stream",
          "text": [
            "1  1\n",
            "1  1\n",
            "coordenadas: x: 0 y: 0\n",
            "\n",
            "94.98809523809524\n",
            "inicial: \n",
            "1  1  0  0  0  0  0  0  0  0  0  0  0  0  0  0\n",
            "1  1  0  0  0  0  0  0  0  0  0  0  0  0  0  0\n",
            "0  0  0  0  0  0  0  0  0  0  0  0  0  0  0  0\n",
            "0  0  0  0  0  0  0  0  0  0  0  0  0  0  0  0\n",
            "0  0  0  0  0  0  0  0  0  0  0  0  0  0  0  0\n",
            "0  0  0  0  0  0  0  0  0  0  0  0  0  0  0  0\n",
            "0  0  0  0  0  0  0  0  0  0  0  0  0  0  0  0\n",
            "0  0  0  0  0  0  0  0  0  0  0  0  0  0  0  0\n",
            "0  0  0  0  0  0  0  0  0  0  0  0  0  0  0  0\n",
            "0  0  0  0  0  0  0  0  0  0  0  0  0  0  0  0\n",
            "0  0  0  0  0  0  0  0  0  0  0  0  0  0  0  0\n",
            "0  0  0  0  0  0  0  0  0  0  0  0  0  0  0  0\n",
            "0  0  0  0  0  0  0  0  0  0  0  0  0  0  0  0\n",
            "0  0  0  0  0  0  0  0  0  0  0  0  0  0  0  0\n",
            "0  0  0  0  0  0  0  0  0  0  0  0  0  0  0  0\n",
            "0  0  0  0  0  0  0  0  0  0  0  0  0  0  0  0\n",
            "\n",
            "[[1, 1, 0, 0, 0, 0, 0, 0, 0, 0, 0, 0, 0, 0, 0, 0], [1, 1, 0, 0, 0, 0, 0, 0, 0, 0, 0, 0, 0, 0, 0, 0], [0, 0, 0, 0, 0, 0, 0, 0, 0, 0, 0, 0, 0, 0, 0, 0], [0, 0, 0, 0, 0, 0, 0, 0, 0, 0, 0, 0, 0, 0, 0, 0], [0, 0, 0, 0, 0, 0, 0, 0, 0, 0, 0, 0, 0, 0, 0, 0], [0, 0, 0, 0, 0, 0, 0, 0, 0, 0, 0, 0, 0, 0, 0, 0], [0, 0, 0, 0, 0, 0, 0, 0, 0, 0, 0, 0, 0, 0, 0, 0], [0, 0, 0, 0, 0, 0, 0, 0, 0, 0, 0, 0, 0, 0, 0, 0], [0, 0, 0, 0, 0, 0, 0, 0, 0, 0, 0, 0, 0, 0, 0, 0], [0, 0, 0, 0, 0, 0, 0, 0, 0, 0, 0, 0, 0, 0, 0, 0], [0, 0, 0, 0, 0, 0, 0, 0, 0, 0, 0, 0, 0, 0, 0, 0], [0, 0, 0, 0, 0, 0, 0, 0, 0, 0, 0, 0, 0, 0, 0, 0], [0, 0, 0, 0, 0, 0, 0, 0, 0, 0, 0, 0, 0, 0, 0, 0], [0, 0, 0, 0, 0, 0, 0, 0, 0, 0, 0, 0, 0, 0, 0, 0], [0, 0, 0, 0, 0, 0, 0, 0, 0, 0, 0, 0, 0, 0, 0, 0], [0, 0, 0, 0, 0, 0, 0, 0, 0, 0, 0, 0, 0, 0, 0, 0]]\n",
            "[252]\n"
          ]
        }
      ],
      "source": [
        "\n",
        "x = 16\n",
        "y = 16\n",
        "space = [[0 for column in range(x)] for row in range(y)]\n",
        "\n",
        "x_pos = 0\n",
        "y_pos = 0\n",
        "#print(x_pos,y_pos)\n",
        "#pieza = generar_pieza()\n",
        "pieza2 = PiezaClase(generar_pieza(),0,0)\n",
        "imprimir_pieza(pieza2)\n",
        "print(fitness(space, pieza2.pieza, pieza2.x_pos, pieza2.y_pos))\n",
        "\n",
        "\n",
        "print(\"inicial: \")\n",
        "imprimir_espacio(space)\n",
        "temp_area = copy.deepcopy(space)\n",
        "array = huecos(temp_area)\n",
        "\n",
        "print (temp_area)\n",
        "print (array)"
      ]
    },
    {
      "cell_type": "markdown",
      "metadata": {},
      "source": [
        "PRIMERA IMPLEMENTACION DE ACO"
      ]
    },
    {
      "cell_type": "code",
      "execution_count": 10,
      "metadata": {},
      "outputs": [],
      "source": [
        "#Genero el espacio donde colocamos las piezas\n",
        "x = 16\n",
        "y = 16\n",
        "space = [[0 for column in range(x)] for row in range(y)]\n",
        "\n",
        "#Genero un array de piezas\n",
        "piezas = []\n",
        "for i in range(10):\n",
        "    piezaIndividual = PiezaClase(generar_pieza(),random.randint(0, 15),random.randint(0, 15))\n",
        "    piezas.append(piezaIndividual)\n",
        "    \n",
        "    #imprimir_pieza(piezas[i])"
      ]
    },
    {
      "cell_type": "code",
      "execution_count": 19,
      "metadata": {},
      "outputs": [],
      "source": [
        "def heuristico(piezaHeu:PiezaClase): #se puede hacer un heuristico que varíe segun avanza.\n",
        "    size = len(piezaHeu.pieza)*len(piezaHeu.pieza[0])\n",
        "    \n",
        "    return size / (x*x)"
      ]
    },
    {
      "cell_type": "code",
      "execution_count": 41,
      "metadata": {},
      "outputs": [],
      "source": [
        "def calculoProbabilidades(pheromonesCopy, piezas):\n",
        "    alpha = 0.5\n",
        "    beta = 0.5\n",
        "    dividendo = []\n",
        "    suma = 0\n",
        "    for i in range(0, len(piezas)):\n",
        "        dividendo.append(pow(pheromonesCopy[i],alpha) * pow(heuristico(piezas[i]),beta))\n",
        "        suma += dividendo[i]\n",
        "    for j in dividendo:\n",
        "        j = j/suma\n",
        "    print(\"Dividendo\",dividendo)\n",
        "    return dividendo"
      ]
    },
    {
      "cell_type": "code",
      "execution_count": 37,
      "metadata": {},
      "outputs": [],
      "source": [
        "#El array sol contiene n arrays, donde n es len de piezas, en los cuales el primer valor es\n",
        "# si se pone o no se pone le pieza y los otros dos la posicion\n",
        "# En caso de que se ponga se intenta colocar por ahora de manera aleatoria 50 veces, si no se consigue se pone como False\n",
        "# esto despues se hara con feromonas y tal pero por ahora random\n",
        "def generar_sol(space, pheromones):\n",
        "    sol = [[0 for column in range(0,3)] for row in range(len(piezas))]\n",
        "    probabilidades=calculoProbabilidades(copy.deepcopy(pheromones), piezas)\n",
        "    for i in range(len(piezas)):\n",
        "        if(random.random() < probabilidades[i]):\n",
        "            sol[i][0] = True\n",
        "        else:\n",
        "            sol[i][0] = False\n",
        "        if (sol[i][0] == True):\n",
        "            for j in range (0,50):\n",
        "                posTempX = random.randint(0, 15)\n",
        "                posTempY = random.randint(0, 15)\n",
        "                if(fitness(space,piezas[i].pieza,posTempX, posTempY) != 0):\n",
        "                    sol[i][1] = posTempX\n",
        "                    sol[i][2] = posTempY\n",
        "                    break\n",
        "                elif(j == 10):\n",
        "                    sol[i][0] = False\n",
        "                    sol[i][1] = -1\n",
        "                    sol[i][2] = -1\n",
        "        else:\n",
        "            sol[i][1] = -1\n",
        "            sol[i][2] = -1\n",
        "    return sol\n",
        "\n",
        "# print(generar_sol(space))\n",
        "# imprimir_espacio(space)\n",
        "# print(fitnessSinPieza(space))"
      ]
    },
    {
      "cell_type": "code",
      "execution_count": 43,
      "metadata": {},
      "outputs": [
        {
          "name": "stdout",
          "output_type": "stream",
          "text": [
            "Dividendo [0.848744856090167, 0.7554183005516651, 0.9009182090894585, 0.9305049618980126, 0.32048704233440206, 0.8182094248712142, 1.0230558747735, 0.439617847136725, 0.9484650940535244, 0.8346878378705912]\n",
            "69.5 [[False, -1, -1], [True, 11, 7], [True, 0, 11], [True, 8, 1], [True, 2, 1], [False, -1, -1], [True, 1, 4], [True, 6, 11], [False, 5, 4], [False, -1, -1]]\n",
            "Dividendo [0.848744856090167, 0.7554183005516651, 0.9009182090894585, 0.9305049618980126, 0.32048704233440206, 0.8182094248712142, 1.0230558747735, 0.439617847136725, 0.9484650940535244, 0.8346878378705912]\n",
            "70.25 [[True, 12, 7], [True, 0, 7], [True, 6, 9], [True, 6, 5], [True, 5, 1], [False, -1, -1], [True, 11, 0], [True, 11, 8], [False, -1, -1], [False, 0, 0]]\n",
            "Dividendo [0.848744856090167, 0.7554183005516651, 0.9009182090894585, 0.9305049618980126, 0.32048704233440206, 0.8182094248712142, 1.0230558747735, 0.439617847136725, 0.9484650940535244, 0.8346878378705912]\n",
            "72.5 [[True, 8, 7], [True, 11, 0], [True, 7, 1], [True, 8, 8], [False, -1, -1], [False, -1, -1], [True, 1, 7], [False, -1, -1], [False, -1, -1], [True, 0, 0]]\n",
            "Dividendo [0.848744856090167, 0.7554183005516651, 0.9009182090894585, 0.9305049618980126, 0.32048704233440206, 0.8182094248712142, 1.0230558747735, 0.439617847136725, 0.9484650940535244, 0.8346878378705912]\n",
            "53.5 [[False, -1, -1], [False, -1, -1], [True, 9, 0], [True, 8, 5], [False, 9, 2], [True, 10, 10], [True, 5, 0], [True, 1, 2], [True, 0, 6], [False, -1, -1]]\n",
            "Dividendo [0.848744856090167, 0.7554183005516651, 0.9009182090894585, 0.9305049618980126, 0.32048704233440206, 0.8182094248712142, 1.0230558747735, 0.439617847136725, 0.9484650940535244, 0.8346878378705912]\n",
            "86.0 [[True, 11, 13], [True, 11, 1], [True, 8, 12], [True, 3, 3], [True, 4, 0], [True, 1, 8], [True, 6, 7], [False, -1, -1], [False, -1, -1], [False, -1, -1]]\n",
            "Dividendo [0.848744856090167, 0.7554183005516651, 0.9009182090894585, 0.9305049618980126, 0.32048704233440206, 0.8182094248712142, 1.0230558747735, 0.439617847136725, 0.9484650940535244, 0.8346878378705912]\n",
            "69.5 [[True, 2, 14], [True, 13, 4], [True, 2, 5], [True, 3, 9], [False, -1, -1], [True, 8, 0], [True, 9, 9], [True, 3, 0], [False, -1, -1], [False, -1, -1]]\n",
            "Dividendo [0.848744856090167, 0.7554183005516651, 0.9009182090894585, 0.9305049618980126, 0.32048704233440206, 0.8182094248712142, 1.0230558747735, 0.439617847136725, 0.9484650940535244, 0.8346878378705912]\n",
            "52.0 [[False, -1, -1], [True, 10, 1], [True, 0, 11], [True, 6, 7], [False, -1, -1], [True, 7, 10], [True, 5, 1], [True, 0, 1], [False, -1, -1], [True, 0, 6]]\n",
            "Dividendo [0.848744856090167, 0.7554183005516651, 0.9009182090894585, 0.9305049618980126, 0.32048704233440206, 0.8182094248712142, 1.0230558747735, 0.439617847136725, 0.9484650940535244, 0.8346878378705912]\n",
            "69.5 [[True, 0, 6], [False, -1, -1], [True, 7, 2], [True, 3, 8], [False, -1, -1], [True, 5, 4], [True, 11, 9], [True, 1, 2], [False, -1, -1], [False, 11, 4]]\n",
            "Dividendo [0.848744856090167, 0.7554183005516651, 0.9009182090894585, 0.9305049618980126, 0.32048704233440206, 0.8182094248712142, 1.0230558747735, 0.439617847136725, 0.9484650940535244, 0.8346878378705912]\n",
            "78.0 [[True, 4, 12], [False, -1, -1], [True, 7, 12], [True, 8, 8], [False, -1, -1], [True, 3, 4], [True, 10, 2], [False, -1, -1], [False, -1, -1], [False, -1, -1]]\n",
            "Dividendo [0.848744856090167, 0.7554183005516651, 0.9009182090894585, 0.9305049618980126, 0.32048704233440206, 0.8182094248712142, 1.0230558747735, 0.439617847136725, 0.9484650940535244, 0.8346878378705912]\n",
            "69.5 [[True, 6, 1], [True, 6, 7], [True, 3, 2], [True, 0, 6], [False, -1, -1], [True, 8, 3], [False, 2, 10], [False, -1, -1], [True, 9, 7], [False, -1, -1]]\n",
            "0  0  0  0  0  0  0  0  0  0  0  0  0  0  0  0\n",
            "0  0  0  0  0  0  0  0  0  0  0  0  0  0  0  0\n",
            "0  0  0  0  0  0  0  0  0  0  0  0  0  0  0  0\n",
            "0  0  0  0  0  0  0  0  0  0  0  0  0  0  0  0\n",
            "0  0  0  0  0  0  0  0  0  0  0  0  0  0  0  0\n",
            "0  0  0  0  0  0  0  0  0  0  0  0  0  0  0  0\n",
            "0  0  0  0  0  0  0  0  0  0  0  0  0  0  0  0\n",
            "0  0  0  0  0  0  0  0  0  0  0  0  0  0  0  0\n",
            "0  0  0  0  0  0  0  0  0  0  0  0  0  0  0  0\n",
            "0  0  0  0  0  0  0  0  0  0  0  0  0  0  0  0\n",
            "0  0  0  0  0  0  0  0  0  0  0  0  0  0  0  0\n",
            "0  0  0  0  0  0  0  0  0  0  0  0  0  0  0  0\n",
            "0  0  0  0  0  0  0  0  0  0  0  0  0  0  0  0\n",
            "0  0  0  0  0  0  0  0  0  0  0  0  0  0  0  0\n",
            "0  0  0  0  0  0  0  0  0  0  0  0  0  0  0  0\n",
            "0  0  0  0  0  0  0  0  0  0  0  0  0  0  0  0\n",
            "\n"
          ]
        }
      ],
      "source": [
        "#Genero el ACO\n",
        "pheromones = [random.random()+0.1 for i in range(0,len(piezas))]\n",
        "best_solution = []\n",
        "numberAnts = 10\n",
        "for i in range(0,1):\n",
        "    caminos = []\n",
        "    for j in range(numberAnts):\n",
        "        solution = generar_sol(copy.deepcopy(space), pheromones)\n",
        "        print(fitnessSinPieza(solution), solution) #TO DO, imprimir space con esta sol para leerlo mejor\n",
        "        caminos.append(solution)\n",
        "        fit = fitnessSinPieza(solution)\n",
        "        if(fit > fitnessSinPieza(best_solution)):\n",
        "            best_solution = solution\n",
        "    \n",
        "\n",
        "imprimir_espacio(space)"
      ]
    },
    {
      "cell_type": "code",
      "execution_count": 2,
      "metadata": {},
      "outputs": [
        {
          "ename": "SyntaxError",
          "evalue": "invalid syntax (3729682758.py, line 38)",
          "output_type": "error",
          "traceback": [
            "\u001b[1;36m  Cell \u001b[1;32mIn[2], line 38\u001b[1;36m\u001b[0m\n\u001b[1;33m    Pheromones = ??\u001b[0m\n\u001b[1;37m                 ^\u001b[0m\n\u001b[1;31mSyntaxError\u001b[0m\u001b[1;31m:\u001b[0m invalid syntax\n"
          ]
        }
      ],
      "source": [
        "#ACO template\n",
        "\n",
        "class Piece:\n",
        "    def __init__(self, x_dim, y_dim):\n",
        "        self.x_dim = x_dim\n",
        "        self.y_dim = y_dim\n",
        "\n",
        "class Choice:\n",
        "    def __init__(self, pieza, x_pos, y_pos):\n",
        "        self.piece = pieza\n",
        "        self.x_pos = x_pos\n",
        "        self.y_pos = y_pos\n",
        "\n",
        "class Solution:\n",
        "    def __init__(self, x_dim, y_dim):\n",
        "        self.x_dim = x_dim\n",
        "        self.y_dim = y_dim\n",
        "        self.board = [[0 for column in range(x_dim)] for row in range(y_dim)]\n",
        "\n",
        "    def does_Choice_fit(self, choice):\n",
        "        if choice.piece.x_dim + choice.x_pos > self.x_dim:\n",
        "            return False\n",
        "        if choice.piece.y_dim + choice.y_pos > self.y_dim:\n",
        "            return False\n",
        "        for i in range(choice.piece.x_dim):\n",
        "            for j in range(choice.piece.y_dim):\n",
        "                if self.board[choice.x_pos + i][choice.y_pos + j] == 1 :\n",
        "                    return False\n",
        "        return True\n",
        "\n",
        "    def place_Choice(self, choice):\n",
        "        for i in range(choice.piece.x_dim):\n",
        "            for j in range(choice.piece.y_dim):\n",
        "                self.board[choice.x_pos + i][choice.y_pos + j] = 1\n",
        "\n",
        "\n",
        "def initialize_pheromones():\n",
        "    Pheromones = ??\n",
        "    return Pheromones\n",
        "\n",
        "def update_pheromones(Pheromones, Solution_list):\n",
        "    New_Pheromones = initialize_pheromones()\n",
        "    ??\n",
        "    return New_Pheromones\n",
        "\n",
        "def evaluate_fitness(solution):\n",
        "    fitness = 0\n",
        "    ??\n",
        "    return fitness\n",
        "\n",
        "def get_candidates(Solution):\n",
        "    Candidates = []\n",
        "    ??\n",
        "    return Candidates\n",
        "\n",
        "def heuristic(choice):\n",
        "    return ??\n",
        "\n",
        "\n",
        "def calculate_probabilities(Candidates, Pheromones):\n",
        "    alpha = 0.5\n",
        "    beta = 0.5\n",
        "    dividend = []\n",
        "    sum = 0\n",
        "    for i in range(0, len(Candidates)):\n",
        "        dividend.append(pow(Pheromones[i],alpha) * pow(heuristic(Candidates[i]),beta))\n",
        "        sum += dividend[i]\n",
        "    for j in dividend:\n",
        "        j = j/sum\n",
        "    return dividend\n",
        "\n",
        "def random_choice(Candidates, Probabilities):\n",
        "    for i in range(len(Candidates)):\n",
        "        if random.random() < Probabilities[i]: #good option for experimenting an using other choosing algos\n",
        "            return Candidates[i]\n",
        "\n",
        "def construct_solution(Pheromones):\n",
        "    Solution = []\n",
        "    Candidates = get_candidates(Solution) #candidates are always valid\n",
        "    while (not Candidates.empty()):\n",
        "        Probabilities = calculate_probabilities(Candidates, Pheromones)\n",
        "        choice = random_choice(Candidates, Probabilities)\n",
        "        Solution.place_Choice(choice)\n",
        "        Candidates = get_candidates(Solution)\n",
        "\n",
        "    return Solution\n",
        "\n",
        "def ACO(n_ants):\n",
        "    Pheromones = initialize_pheromones()\n",
        "    best_fitness = 0\n",
        "    best_solution = []\n",
        "    while (not has_finished()):\n",
        "        Solution_list = []\n",
        "        for i in range(n_ants):\n",
        "            solution = construct_solution(Pheromones)\n",
        "            Solution_list.append(solution)\n",
        "            fintess = evaluate_fitness(solution)\n",
        "            if (fintess > best_fitness):\n",
        "                best_solution = solution\n",
        "                best_fitness = fitness\n",
        "\n",
        "        Pheromones = update_pheromones(Pheromones, Solution_list)\n",
        "\n",
        "    return best_solution\n",
        "\n",
        "\n",
        "\n",
        "\n",
        "\n",
        "#\n",
        "#\n",
        "#\n",
        "#\n",
        "#\n",
        "#\n",
        "#\n",
        "#\n",
        "#\n",
        "#\n",
        "#\n",
        "#\n",
        "#"
      ]
    }
  ],
  "metadata": {
    "colab": {
      "provenance": []
    },
    "kernelspec": {
      "display_name": "Python 3",
      "name": "python3"
    },
    "language_info": {
      "codemirror_mode": {
        "name": "ipython",
        "version": 3
      },
      "file_extension": ".py",
      "mimetype": "text/x-python",
      "name": "python",
      "nbconvert_exporter": "python",
      "pygments_lexer": "ipython3",
      "version": "3.12.3"
    }
  },
  "nbformat": 4,
  "nbformat_minor": 0
}
