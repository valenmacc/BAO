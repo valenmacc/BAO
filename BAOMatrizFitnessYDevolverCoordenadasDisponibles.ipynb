{
  "cells": [
    {
      "cell_type": "markdown",
      "metadata": {},
      "source": [
        "----TODO-----\n",
        "Actualizar feronomonas, sobre todo fitness por pieza\n",
        "Pruebas Fitness"
      ]
    },
    {
      "cell_type": "code",
      "execution_count": 1,
      "metadata": {
        "id": "-8ruO1it7PbZ"
      },
      "outputs": [],
      "source": [
        "import copy\n",
        "from typing import List, Dict"
      ]
    },
    {
      "cell_type": "code",
      "execution_count": 2,
      "metadata": {},
      "outputs": [
        {
          "data": {
            "text/plain": [
              "'     def _initialize(pieza, x_pos, y_pos):\\n        self.pieza = pieza\\n        self.x_pos = x_pos\\n        self.y_pos = y_pos '"
            ]
          },
          "execution_count": 2,
          "metadata": {},
          "output_type": "execute_result"
        }
      ],
      "source": [
        "class PiezaClase:\n",
        "    def __init__(self, pieza, x_pos, y_pos):\n",
        "        self.pieza = pieza\n",
        "        self.x_pos = x_pos\n",
        "        self.y_pos = y_pos\n",
        "    \n",
        "\"\"\"     def _initialize(pieza, x_pos, y_pos):\n",
        "        self.pieza = pieza\n",
        "        self.x_pos = x_pos\n",
        "        self.y_pos = y_pos \"\"\""
      ]
    },
    {
      "cell_type": "code",
      "execution_count": 3,
      "metadata": {
        "colab": {
          "base_uri": "https://localhost:8080/"
        },
        "id": "n0sgYTd6v9YE",
        "outputId": "9a7ed4c0-1398-4a5b-8a97-220839aa39fa"
      },
      "outputs": [
        {
          "name": "stdout",
          "output_type": "stream",
          "text": [
            "[[0, 1, 0, 1], [0, 1, 0, 1], [0, 0, 1, 0], [0, 1, 1, 1]]\n",
            "[[0, 1, 0, 1], [0, 1, 0, 1], [0, 0, 1, 0], [0, 1, 1, 1]]\n",
            "[5, 2, 1]\n"
          ]
        }
      ],
      "source": [
        "def explore_adyacent(temp, x, y): #hay que marcar la celda inicial antes de llamarla\n",
        "    area = 0\n",
        "    # Verificar si la celda adyacente está dentro de los límites del espacio\n",
        "    if x + 1 < len(temp) and temp[x+1][y] == 0:\n",
        "        temp[x+1][y] = 1\n",
        "        area += explore_adyacent(temp, x+1, y)\n",
        "    if x - 1 >= 0 and temp[x-1][y] == 0:\n",
        "        temp[x-1][y] = 1\n",
        "        area += explore_adyacent(temp, x-1, y)\n",
        "    if y + 1 < len(temp[0]) and temp[x][y+1] == 0:\n",
        "        temp[x][y+1] = 1\n",
        "        area += explore_adyacent(temp, x, y+1)\n",
        "    if y - 1 >= 0 and temp[x][y-1] == 0:\n",
        "        temp[x][y-1] = 1\n",
        "        area += explore_adyacent(temp, x, y-1)\n",
        "    if temp[x][y]:\n",
        "        area += 1\n",
        "    return area\n",
        "\n",
        "\n",
        "def huecos (mat):\n",
        "  matrix = copy.deepcopy(mat)\n",
        "  array = []\n",
        "  for i in range(len(mat)):\n",
        "    for j in range(len(mat[0])):\n",
        "      if matrix[i][j] == 0:\n",
        "        matrix[i][j] = 1\n",
        "        array.append(explore_adyacent(matrix, i, j))\n",
        "  return array\n",
        "\n",
        "space =  [[0, 1, 0, 1],\n",
        "          [0, 1, 0, 1],\n",
        "          [0, 0, 1, 0],\n",
        "          [0, 1, 1, 1]]\n",
        "temp_area = copy.deepcopy(space)\n",
        "array = huecos(temp_area)\n",
        "print(space)\n",
        "print (temp_area)\n",
        "print (array)"
      ]
    },
    {
      "cell_type": "code",
      "execution_count": 4,
      "metadata": {},
      "outputs": [],
      "source": [
        "def clamp_to_zero(number):\n",
        "    if number < 0:\n",
        "        return 0\n",
        "    else:\n",
        "        return number"
      ]
    },
    {
      "cell_type": "code",
      "execution_count": 5,
      "metadata": {},
      "outputs": [],
      "source": [
        "#funcion para imprimir una matriz mas esteticamente\n",
        "def imprimir_matriz(matriz):\n",
        "    # Encuentra la longitud máxima para cada columna\n",
        "    max_lengths = [max(len(str(row[i])) for row in matriz) for i in range(len(matriz[0]))]\n",
        "\n",
        "    # Imprime la matriz con los números alineados correctamente\n",
        "    for row in matriz:\n",
        "        for i, item in enumerate(row):\n",
        "            print(str(item).rjust(max_lengths[i]), end=\" \")\n",
        "        print()  # Nueva línea después de cada fila\n"
      ]
    },
    {
      "cell_type": "markdown",
      "metadata": {},
      "source": [
        "FITNESS DEFINITION"
      ]
    },
    {
      "cell_type": "code",
      "execution_count": 6,
      "metadata": {},
      "outputs": [],
      "source": [
        "def fitnessSinPieza(space):\n",
        "    espacios = huecos(space)\n",
        "    value = 100\n",
        "    value = value - len(espacios) * 5 #penalizar numero de huecos\n",
        "    for hueco in espacios:\n",
        "      value = value - (1/hueco) * 3\n",
        "    return clamp_to_zero(value)"
      ]
    },
    {
      "cell_type": "code",
      "execution_count": 7,
      "metadata": {
        "id": "5JBZADBV_gPs"
      },
      "outputs": [],
      "source": [
        "import copy\n",
        "\n",
        "def colocar_pieza(space, pieza, x, y):\n",
        "    temp = copy.deepcopy(space)  # Deep copy the space to avoid modifying the original\n",
        "    piece_height = len(pieza)\n",
        "    piece_width = len(pieza[0])\n",
        "    #print(\"\\n\".join([\" \".join(map(str, row)) for row in temp]))\n",
        "\n",
        "    # Verifica si la pieza puede colocarse en las coordenadas (x, y)\n",
        "    if x + piece_height > len(space) or y + piece_width > len(space[0]):\n",
        "        #print(\"La pieza queda fuera del espacio, fitness deberia ser 0\")\n",
        "        return False  # Las coordenadas están fuera del espacio\n",
        "    \n",
        "    for i in range(piece_height):\n",
        "        for j in range(piece_width):\n",
        "            if space[x+i][y+j] == 1 :\n",
        "                #print(\"La pieza se superpondría con otra en esta posición\")\n",
        "                return False  # La pieza se superpondría con otra pieza ya colocada\n",
        "            temp[x+i][y+j] = pieza[i][j]  # Coloca la pieza en el espacio temporal\n",
        "    \n",
        "    # Copia el espacio temporal modificado de vuelta al espacio original\n",
        "    for i in range(len(space)):\n",
        "        for j in range(len(space[0])):\n",
        "            space[i][j] = temp[i][j]\n",
        "    \n",
        "    return True  # La pieza se colocó con éxito en las coordenadas (x, y)"
      ]
    },
    {
      "cell_type": "code",
      "execution_count": 8,
      "metadata": {},
      "outputs": [],
      "source": [
        "def fitness(space, pieza, x, y):\n",
        "    temp = copy.deepcopy(space)  # Deep copy the space to avoid modifying the original\n",
        "    valid = colocar_pieza(temp, pieza.pieza, x, y)\n",
        "    espacios = huecos(temp)\n",
        "    if not valid:\n",
        "        #print(\"La pieza no se puede colocar en la posición dada, por lo que el fitness es 0.\")\n",
        "        return 0\n",
        "    else:\n",
        "        value = 100\n",
        "        value -= len(espacios) * 5  # Penalizar el número de huecos\n",
        "        #print(f\"Número de huecos: {len(espacios)}\")\n",
        "        for hueco in espacios:\n",
        "            value -= (1 / hueco) * 3\n",
        "            #print(f\"Hueco: {hueco}, Penalización: {(1/hueco) * 3}\")\n",
        "            #print(f\"fitness value: {value}\")\n",
        "        return clamp_to_zero(value)\n"
      ]
    },
    {
      "cell_type": "code",
      "execution_count": 9,
      "metadata": {},
      "outputs": [],
      "source": [
        "def obtener_fitness_para_todas_las_posiciones(space, pieza):\n",
        "    fitness_matriz = [[0 for _ in range(len(space[0]))] for _ in range(len(space))]\n",
        "\n",
        "    print(\"Hemos inicializado bien la matriz del fitness\")\n",
        "\n",
        "    for i in range(len(space)):\n",
        "        for j in range(len(space[0])):\n",
        "            temp_space = [row[:] for row in space]  # Copia profunda de la matriz original\n",
        "            colocada = colocar_pieza(temp_space, pieza.pieza, i, j)  # Modificación aquí\n",
        "            if colocada:\n",
        "                #colocada va a ser true si se puede colocar la pieza en i,j\n",
        "                #print(\"Empezamos a rellenar la matriz del fitness\")\n",
        "                #print(\"La pieza podría colocarse en esta posición, por lo que el fitness debe ser > 0.\")\n",
        "                fitness_matriz[i][j] = round (fitness(space, pieza, i, j), 2)  # Almacena el fitness sin la pieza\n",
        "                #funcion de fitness ejecutada correctamente\n",
        "\n",
        "    print(\"Hemos rellenado correctamente la matriz del fitness\")\n",
        "    # Imprime la matriz de fitness\n",
        "    print(\"Matriz de fitness:\")\n",
        "    imprimir_matriz(fitness_matriz)\n",
        "    \n",
        "\n",
        "    return fitness_matriz"
      ]
    },
    {
      "cell_type": "code",
      "execution_count": 10,
      "metadata": {
        "colab": {
          "base_uri": "https://localhost:8080/"
        },
        "id": "J3YgaKDF19YI",
        "outputId": "0ce84623-9a9b-44b4-a816-354f7b16510b"
      },
      "outputs": [
        {
          "name": "stdout",
          "output_type": "stream",
          "text": [
            "1  1  1\n",
            "1  1  1\n",
            "1  1  1\n",
            "1  1  1\n",
            "1  1  1\n",
            "1  1  1\n",
            "coordenadas: x: 6 y: 3\n",
            "\n"
          ]
        }
      ],
      "source": [
        "#Función para crear la pieza, empezamos creando piezas de un máximo de area de 3x3, para empezar con una versión sencilla del problema, haremos que las piezas inicialmente solo puedan ser cuadrados de 1x1, 2x2 o 3x3.\n",
        "\n",
        "import random\n",
        "\n",
        "def generar_pieza():\n",
        "    # Inicializamos una matriz vacía\n",
        "    sizex = random.randint(1, 6)\n",
        "    sizey = random.randint(1, 6)\n",
        "    pieza = [[1 for column in range(sizex)] for row in range(sizey)]\n",
        "    return pieza\n",
        "\n",
        "\n",
        "def imprimir_pieza(pieza:PiezaClase):\n",
        "    for row in pieza.pieza:\n",
        "        print(\"  \".join(map(str, row)))\n",
        "    print(\"coordenadas: x:\",pieza.x_pos, \"y:\",pieza.y_pos)\n",
        "    print()\n",
        "\n",
        "def imprimir_espacio(space):\n",
        "    for row in space:\n",
        "        print(\"  \".join(map(str, row)))\n",
        "    print()\n",
        "\n",
        "\n",
        "\n",
        "# Ejemplo de uso\n",
        "if __name__ == \"__main__\":\n",
        "    pieza = PiezaClase(generar_pieza(),random.randint(1, 6),random.randint(1, 6))\n",
        "    imprimir_pieza(pieza)"
      ]
    },
    {
      "cell_type": "markdown",
      "metadata": {},
      "source": [
        "TEST DE FITNESS:"
      ]
    },
    {
      "cell_type": "code",
      "execution_count": null,
      "metadata": {},
      "outputs": [],
      "source": [
        "def test_fitness_function():\n",
        "    # Genera un espacio pequeño para las pruebas\n",
        "    print(\"Empezamos a generar el espacio.\")\n",
        "    x = 10\n",
        "    y = 10\n",
        "    space = [[0 for _ in range(x)] for _ in range(y)]\n",
        "\n",
        "    # Genera un conjunto de piezas para las pruebas\n",
        "    print(\"Procedemos a generar las piezas.\")\n",
        "    piezas = []\n",
        "    for i in range(6):  # Limita el número de piezas para mantener las pruebas manejables\n",
        "        # Genera una pieza individual con diferentes posiciones x e y en cada iteración\n",
        "        piezaIndividual = PiezaClase(generar_pieza(), i, i)\n",
        "        piezas.append(piezaIndividual)\n",
        "    print(\"Piezas generadas correctamente.\")    \n",
        "\n",
        "    # Realiza las pruebas de la función de fitness para cada pieza\n",
        "    print(\"Empezamos las pruebas.\")\n",
        "    for pieza in piezas:\n",
        "        x_pos = pieza.x_pos\n",
        "        y_pos = pieza.y_pos\n",
        "\n",
        "        # Imprime la matriz de espacio antes de colocar la pieza\n",
        "        print(\"Matriz de espacio antes de colocar la pieza:\")\n",
        "        imprimir_espacio(space)\n",
        "\n",
        "        # Imprime la pieza antes de intentar colocarla\n",
        "        print(\"Pieza a colocar:\")\n",
        "        imprimir_espacio(pieza.pieza)\n",
        "\n",
        "        # Llama a la función para obtener el fitness para todas las posiciones de la matriz\n",
        "        print(\"Llamamos a la funcion para obtener la matriz de fitness.\")\n",
        "        obtener_fitness_para_todas_las_posiciones(space, pieza)\n",
        "\n",
        "        print(\"La matriz de fitness se ha rellenado correctamente \\n\")\n",
        "\n",
        "        # Coloca la pieza en el espacio\n",
        "        print(\"Comprobamos si podemos colocar la pieza:\")\n",
        "        colocada = False\n",
        "        for i in range(len(space)):  # Recorre todas las posiciones del espacio\n",
        "            for j in range(len(space[0])):\n",
        "                colocada = colocar_pieza(space, pieza.pieza, i, j)\n",
        "                if colocada:  # Si la pieza fue colocada, sale del bucle\n",
        "                    print(\"Pieza colocada exitosamente.\")\n",
        "                    break\n",
        "            if colocada:\n",
        "                break  # Sale del bucle externo si la pieza fue colocada\n",
        "        if not colocada:\n",
        "            print(\"La pieza no se puede colocar en ninguna posición dada.\")\n",
        "\n",
        "        # Imprime la matriz de espacio después de colocar la pieza\n",
        "        print(\"Matriz de espacio después de colocar la pieza:\")\n",
        "        imprimir_espacio(space)\n",
        "\n",
        "\n",
        "test_fitness_function()\n"
      ]
    },
    {
      "cell_type": "markdown",
      "metadata": {},
      "source": [
        "Funcion para decir las primeras coordenadas de una matriz (las más arriba a la izquierda) en las que quepa la pieza que se le ha pasado:"
      ]
    },
    {
      "cell_type": "code",
      "execution_count": null,
      "metadata": {},
      "outputs": [],
      "source": [
        "def coordenadasEsquinaPosibles (space, pieza):\n",
        "\n",
        "    temp = copy.deepcopy(space)  # Deep copy the space to avoid modifying the original\n",
        "    for i in range(len(space)):  # Recorre todas las posiciones del espacio\n",
        "            for j in range(len(space[0])):\n",
        "                posible = colocar_pieza(temp, pieza.pieza)\n",
        "                if posible:\n",
        "                    return [i, j]\n",
        "    \n"
      ]
    }
  ],
  "metadata": {
    "colab": {
      "provenance": []
    },
    "kernelspec": {
      "display_name": "Python 3",
      "name": "python3"
    },
    "language_info": {
      "codemirror_mode": {
        "name": "ipython",
        "version": 3
      },
      "file_extension": ".py",
      "mimetype": "text/x-python",
      "name": "python",
      "nbconvert_exporter": "python",
      "pygments_lexer": "ipython3",
      "version": "3.12.1"
    }
  },
  "nbformat": 4,
  "nbformat_minor": 0
}
