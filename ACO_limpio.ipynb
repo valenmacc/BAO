{
 "cells": [
  {
   "cell_type": "markdown",
   "metadata": {},
   "source": [
    "Imports"
   ]
  },
  {
   "cell_type": "code",
   "execution_count": 19,
   "metadata": {},
   "outputs": [],
   "source": [
    "import copy\n",
    "from typing import List, Dict\n",
    "import random\n",
    "import inspyred\n",
    "import matplotlib.pyplot as plt\n",
    "import seaborn as sns\n",
    "import numpy as np"
   ]
  },
  {
   "cell_type": "markdown",
   "metadata": {},
   "source": [
    "Clases"
   ]
  },
  {
   "cell_type": "code",
   "execution_count": 20,
   "metadata": {},
   "outputs": [],
   "source": [
    "class Piece:\n",
    "    def __init__(self, x_dim: int, y_dim: int):\n",
    "        self.x_dim = x_dim\n",
    "        self.y_dim = y_dim\n",
    "\n",
    "    def generate_random_pieces(cardinality, max_size) -> list:\n",
    "        pieces = []\n",
    "        for i in range(cardinality):\n",
    "            pieces.append(Piece(random.randint(0, max_size),random.randint(0, max_size)))\n",
    "        return pieces"
   ]
  },
  {
   "cell_type": "code",
   "execution_count": 21,
   "metadata": {},
   "outputs": [],
   "source": [
    "class Choice:\n",
    "    def __init__(self, piece: Piece, x_pos: int, y_pos: int):\n",
    "        self.piece = piece\n",
    "        self.x_pos = x_pos\n",
    "        self.y_pos = y_pos"
   ]
  },
  {
   "cell_type": "code",
   "execution_count": 22,
   "metadata": {},
   "outputs": [],
   "source": [
    "class Solution:\n",
    "    def __init__(self, x_dim: int, y_dim: int):\n",
    "        self.x_dim = x_dim\n",
    "        self.y_dim = y_dim\n",
    "        self.board = [[False for column in range(x_dim)] for row in range(y_dim)]\n",
    "        self.used_pieces = [False for row in range(Num_Pieces)]\n",
    "        self.pieces_order = [0 for row in range(Num_Pieces)]\n",
    "\n",
    "    def does_Choice_fit(self, choice: Choice) -> bool:\n",
    "        if choice.piece.x_dim + choice.x_pos > self.x_dim:\n",
    "            return False\n",
    "        if choice.piece.y_dim + choice.y_pos > self.y_dim:\n",
    "            return False\n",
    "        for i in range(choice.piece.x_dim):\n",
    "            for j in range(choice.piece.y_dim):\n",
    "                if self.board[choice.x_pos + i][choice.y_pos + j]:\n",
    "                    return False\n",
    "        return True\n",
    "    \n",
    "    def get_Choice (self, piece: Piece) -> Choice:\n",
    "        for i in range(self.x_dim):  # Recorre todas las posiciones del espacio\n",
    "            for j in range(self.y_dim):\n",
    "                posible = Choice(piece, i, j)\n",
    "                if self.does_Choice_fit(posible):\n",
    "                    return Choice(piece, i, j)\n",
    "        return Choice(piece, -1, -1)\n",
    "                \n",
    "    def place_Choice(self, choice: Choice, order: int):\n",
    "        for i in range(choice.piece.x_dim):\n",
    "            for j in range(choice.piece.y_dim):\n",
    "                self.board[choice.x_pos + i][choice.y_pos + j] = True\n",
    "        self.used_pieces[Pieces.index(choice.piece)] = True\n",
    "        self.pieces_order[Pieces.index(choice.piece)] = order\n",
    "\n",
    "    def does_use_piece(self, piece: Piece):\n",
    "        return self.used_pieces[Pieces.index(piece)]\n",
    "    \n",
    "    def get_piece_order(self, piece: Piece):\n",
    "        return self.pieces_order[Pieces.index(piece)]\n",
    "    \n",
    "    def huecos (self) -> list:\n",
    "        board_copy = copy.deepcopy(self.board)\n",
    "        array = []\n",
    "        for i in range(self.x_dim):\n",
    "            for j in range(self.y_dim):\n",
    "                if board_copy[i][j] == 0:\n",
    "                    board_copy[i][j] = 1\n",
    "                    array.append(explore_adyacent(board_copy, i, j))\n",
    "        return array\n",
    "\n",
    "    def evaluate_fitness(self) -> float: \n",
    "        espacios = self.huecos()\n",
    "        value = 100\n",
    "        value = value - len(espacios) * 5 #penalizar numero de huecos\n",
    "        for hueco in espacios:\n",
    "            value = value - (1/hueco) * 3\n",
    "        return clamp(value)"
   ]
  },
  {
   "cell_type": "code",
   "execution_count": 23,
   "metadata": {},
   "outputs": [],
   "source": [
    "class Pheromone:\n",
    "    def __init__(self):\n",
    "        self.placed = 0.5 #considero si esta colocado o no como una feromona\n",
    "        self.placeOrder = [0.5 for i in range(Num_Pieces)] #cada posicion indica el orden en el que se coloca la pieza"
   ]
  },
  {
   "cell_type": "markdown",
   "metadata": {},
   "source": [
    "Constantes"
   ]
  },
  {
   "cell_type": "code",
   "execution_count": 24,
   "metadata": {},
   "outputs": [],
   "source": [
    "numberOfIterations = 100\n",
    "Board_side = 10\n",
    "Num_Pieces = 20\n",
    "Alpha  = 0.5\n",
    "Beta   = 0.5\n",
    "Pieces = Piece.generate_random_pieces(Num_Pieces, 4)\n",
    "bestFitnessEvolution = []\n",
    "mediaFitnessEvolution = []\n",
    "pheromoneHistory = []"
   ]
  },
  {
   "cell_type": "markdown",
   "metadata": {},
   "source": [
    "Utilidades"
   ]
  },
  {
   "cell_type": "code",
   "execution_count": 25,
   "metadata": {},
   "outputs": [],
   "source": [
    "def clamp(value):\n",
    "    if value > 0:\n",
    "        return min(value, 1)\n",
    "    else: \n",
    "        return max (value, 0)\n",
    "    \n",
    "def explore_adyacent(temp, x, y): #hay que marcar la celda inicial antes de llamarla\n",
    "    area = 0\n",
    "    # Verificar si la celda adyacente está dentro de los límites del espacio\n",
    "    if x + 1 < len(temp) and temp[x+1][y] == 0:\n",
    "        temp[x+1][y] = 1\n",
    "        area += explore_adyacent(temp, x+1, y)\n",
    "    if x - 1 >= 0 and temp[x-1][y] == 0:\n",
    "        temp[x-1][y] = 1\n",
    "        area += explore_adyacent(temp, x-1, y)\n",
    "    if y + 1 < len(temp[0]) and temp[x][y+1] == 0:\n",
    "        temp[x][y+1] = 1\n",
    "        area += explore_adyacent(temp, x, y+1)\n",
    "    if y - 1 >= 0 and temp[x][y-1] == 0:\n",
    "        temp[x][y-1] = 1\n",
    "        area += explore_adyacent(temp, x, y-1)\n",
    "    if temp[x][y]:\n",
    "        area += 1\n",
    "    return area"
   ]
  },
  {
   "cell_type": "markdown",
   "metadata": {},
   "source": [
    "Functions"
   ]
  },
  {
   "cell_type": "code",
   "execution_count": 26,
   "metadata": {},
   "outputs": [],
   "source": [
    "def initialize_pheromones(): #creo un array donde cada pieza tiene una pos y un array de feromona\n",
    "    Pheromones = [Pheromone() for i in range(Num_Pieces)]\n",
    "    return Pheromones"
   ]
  },
  {
   "cell_type": "code",
   "execution_count": 27,
   "metadata": {},
   "outputs": [],
   "source": [
    "def update_pheromones(Pheromones, Solution_list):\n",
    "    New_Pheromones = Pheromones\n",
    "\n",
    "    #Pheromones affected by evaporation\n",
    "    for j in New_Pheromones:\n",
    "        j.placed = (1 - 0.8) * j.placed\n",
    "        for i in range(len(j.placeOrder)):\n",
    "            j.placeOrder[i] = (1 - 0.8) * j.placeOrder[i]\n",
    "\n",
    "    #Pheromones affected by pheromone amount\n",
    "    #Fittnes of solution multiply by 0.7\n",
    "    for tempSol in Solution_list:\n",
    "        tempFit = tempSol.evaluate_fitness() * 0.7\n",
    "        for tempPieza in range(len(Pieces)):\n",
    "            if(tempSol.does_use_piece(Pieces[tempPieza])):\n",
    "                New_Pheromones[tempPieza].placed = min(New_Pheromones[tempPieza].placed + tempFit, 1)\n",
    "                tempPosition = tempSol.get_piece_order(Pieces[tempPieza])\n",
    "                New_Pheromones[tempPieza].placeOrder[tempPosition] = min(New_Pheromones[tempPieza].placed + tempFit, 1)\n",
    "            else:\n",
    "                New_Pheromones[tempPieza].placed = max(New_Pheromones[tempPieza].placed - (tempFit * 0.6), 0)\n",
    "\n",
    "    return New_Pheromones"
   ]
  },
  {
   "cell_type": "code",
   "execution_count": 28,
   "metadata": {},
   "outputs": [],
   "source": [
    "def get_candidates(solution: Solution) -> list:\n",
    "    Candidates = []\n",
    "    for candidate in Pieces:\n",
    "        if not solution.does_use_piece(candidate):\n",
    "            choice = solution.get_Choice(candidate)\n",
    "            if choice.x_pos != -1:\n",
    "                Candidates.append(choice)               \n",
    "    return Candidates"
   ]
  },
  {
   "cell_type": "code",
   "execution_count": 29,
   "metadata": {},
   "outputs": [],
   "source": [
    "def heuristic(choice: Choice): #good place for experimentation\n",
    "    size = choice.piece.x_dim * choice.piece.y_dim\n",
    "    return size / (Board_side * Board_side)"
   ]
  },
  {
   "cell_type": "code",
   "execution_count": 30,
   "metadata": {},
   "outputs": [],
   "source": [
    "def calculate_probabilities(Candidates: list, Pheromones: list, order: int):\n",
    "    dividend = []\n",
    "    sum = 0\n",
    "    for i in range(0, len(Candidates)):\n",
    "        dividend.append(pow((Pheromones[i].placed * Pheromones[i].placeOrder[order]),Alpha) * pow(heuristic(Candidates[i]),Beta))\n",
    "        sum += dividend[i]\n",
    "\n",
    "    if sum == 0:\n",
    "        sum = 0.000001\n",
    "    for j in dividend:\n",
    "        j = j/sum\n",
    "    return dividend"
   ]
  },
  {
   "cell_type": "code",
   "execution_count": 31,
   "metadata": {},
   "outputs": [],
   "source": [
    "def random_choice(Candidates, Probabilities):\n",
    "    for i in range(len(Candidates)):\n",
    "        if random.random() < Probabilities[i]: #good option for experimenting an using other choosing algos\n",
    "            return Candidates[i]\n",
    "        return Candidates[len(Candidates)-1]"
   ]
  },
  {
   "cell_type": "code",
   "execution_count": 32,
   "metadata": {},
   "outputs": [],
   "source": [
    "def construct_solution(Pheromones: list) -> Solution:\n",
    "    solution = Solution(Board_side, Board_side)\n",
    "    Candidates = get_candidates(solution) #candidates are always valid\n",
    "    order = 0\n",
    "    while (len(Candidates) > 0):\n",
    "        Probabilities = calculate_probabilities(Candidates, Pheromones, order)\n",
    "        choice = random_choice(Candidates, Probabilities)\n",
    "        solution.place_Choice(choice, order)\n",
    "        Candidates = get_candidates(solution)\n",
    "        order = order + 1\n",
    "\n",
    "    return solution"
   ]
  },
  {
   "cell_type": "markdown",
   "metadata": {},
   "source": [
    "ACO"
   ]
  },
  {
   "cell_type": "code",
   "execution_count": 33,
   "metadata": {
    "tags": [
     "AA"
    ]
   },
   "outputs": [],
   "source": [
    "def ACO(n_ants):\n",
    "    Pheromones = initialize_pheromones()\n",
    "    mediaDeFitness = 0\n",
    "    best_fitness = 0\n",
    "    best_solution = []\n",
    "    i = 0\n",
    "    while (i < numberOfIterations):\n",
    "        Solution_list = []\n",
    "        for j in range(n_ants):\n",
    "            solution = construct_solution(Pheromones)\n",
    "            Solution_list.append(solution)\n",
    "            fitness = solution.evaluate_fitness()\n",
    "            mediaDeFitness = fitness + mediaDeFitness\n",
    "            if (fitness > best_fitness):\n",
    "                best_solution = solution\n",
    "                best_fitness = fitness\n",
    "        #guardo valores historicos para graficas\n",
    "        bestFitnessEvolution.append(best_fitness)\n",
    "        mediaFitnessEvolution.append(mediaDeFitness/n_ants)\n",
    "        mediaDeFitness = 0\n",
    "        for k in range(len(Pheromones)):\n",
    "            pheromoneHistory.append(Pheromones[k].placeOrder)\n",
    "        #----\n",
    "\n",
    "        Pheromones = update_pheromones(Pheromones, Solution_list)\n",
    "\n",
    "        i = i + 1 \n",
    "    return best_solution"
   ]
  },
  {
   "cell_type": "code",
   "execution_count": 34,
   "metadata": {},
   "outputs": [
    {
     "name": "stdout",
     "output_type": "stream",
     "text": [
      "<__main__.Solution object at 0x0000020B5922EA60>\n"
     ]
    }
   ],
   "source": [
    "print(ACO(10))"
   ]
  },
  {
   "cell_type": "markdown",
   "metadata": {},
   "source": [
    "Graficas"
   ]
  },
  {
   "cell_type": "code",
   "execution_count": 35,
   "metadata": {},
   "outputs": [
    {
     "data": {
      "text/plain": [
       "<matplotlib.legend.Legend at 0x20b59293c70>"
      ]
     },
     "execution_count": 35,
     "metadata": {},
     "output_type": "execute_result"
    },
    {
     "data": {
      "image/png": "[encoded data removed]",
      "text/plain": [
       "<Figure size 500x500 with 1 Axes>"
      ]
     },
     "metadata": {},
     "output_type": "display_data"
    }
   ],
   "source": [
    "#Fitness evolution\n",
    "import matplotlib.pyplot as plt\n",
    "import seaborn as sns\n",
    "import numpy as np\n",
    "sns.set_style('darkgrid')\n",
    "\n",
    "best_fitness = np.array(bestFitnessEvolution)\n",
    "media_fitness = np.array(mediaFitnessEvolution)\n",
    "\n",
    "fig, axs = plt.subplots(figsize=(5,5))\n",
    "axs.set_title('Fitness evolution')\n",
    "axs.set_xlabel('Iterations')\n",
    "axs.set_ylabel('Fitness')\n",
    "\n",
    "axs.plot(best_fitness, label='best_high')\n",
    "axs.plot(media_fitness, label='media')\n",
    "\n",
    "plt.legend()"
   ]
  },
  {
   "cell_type": "code",
   "execution_count": 36,
   "metadata": {},
   "outputs": [
    {
     "data": {
      "text/plain": [
       "<Axes: >"
      ]
     },
     "execution_count": 36,
     "metadata": {},
     "output_type": "execute_result"
    },
    {
     "data": {
      "image/png": "[encoded data removed]",
      "text/plain": [
       "<Figure size 640x480 with 2 Axes>"
      ]
     },
     "metadata": {},
     "output_type": "display_data"
    }
   ],
   "source": [
    "#Feromone evolution\n",
    "pheromoneHistory = np.array(pheromoneHistory)\n",
    "sns.heatmap(pheromoneHistory, cmap='Blues', xticklabels=100, yticklabels=100)"
   ]
  }
 ],
 "metadata": {
  "kernelspec": {
   "display_name": "Python 3",
   "language": "python",
   "name": "python3"
  },
  "language_info": {
   "codemirror_mode": {
    "name": "ipython",
    "version": 3
   },
   "file_extension": ".py",
   "mimetype": "text/x-python",
   "name": "python",
   "nbconvert_exporter": "python",
   "pygments_lexer": "ipython3",
   "version": "3.9.6"
  }
 },
 "nbformat": 4,
 "nbformat_minor": 2
}
