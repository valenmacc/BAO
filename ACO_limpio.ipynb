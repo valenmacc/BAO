{
 "cells": [
  {
   "cell_type": "markdown",
   "metadata": {},
   "source": [
    "Imports"
   ]
  },
  {
   "cell_type": "code",
   "execution_count": 108,
   "metadata": {},
   "outputs": [],
   "source": [
    "import copy\n",
    "from typing import List, Dict\n",
    "import random\n",
    "import inspyred\n",
    "import matplotlib.pyplot as plt\n",
    "import seaborn as sns\n",
    "import numpy as np"
   ]
  },
  {
   "cell_type": "markdown",
   "metadata": {},
   "source": [
    "Clases"
   ]
  },
  {
   "cell_type": "code",
   "execution_count": 109,
   "metadata": {},
   "outputs": [],
   "source": [
    "class Piece:\n",
    "    def __init__(self, x_dim: int, y_dim: int):\n",
    "        self.x_dim = x_dim\n",
    "        self.y_dim = y_dim\n",
    "\n",
    "    def generate_random_pieces(cardinality, max_size) -> list:\n",
    "        pieces = []\n",
    "        for i in range(cardinality):\n",
    "            pieces.append(Piece(random.randint(1, max_size),random.randint(1, max_size)))\n",
    "        return pieces"
   ]
  },
  {
   "cell_type": "code",
   "execution_count": 110,
   "metadata": {},
   "outputs": [],
   "source": [
    "class Choice:\n",
    "    def __init__(self, piece: Piece, x_pos: int, y_pos: int):\n",
    "        self.piece = piece\n",
    "        self.x_pos = x_pos\n",
    "        self.y_pos = y_pos"
   ]
  },
  {
   "cell_type": "code",
   "execution_count": 111,
   "metadata": {},
   "outputs": [],
   "source": [
    "class Solution:\n",
    "    def __init__(self, x_dim: int, y_dim: int):\n",
    "        self.x_dim = x_dim\n",
    "        self.y_dim = y_dim\n",
    "        self.board = [[False for column in range(x_dim)] for row in range(y_dim)]\n",
    "        self.used_pieces = [False for row in range(Num_Pieces)]\n",
    "        self.pieces_order = [0 for row in range(Num_Pieces)]\n",
    "        self.pieces_pos = [[[0,0],[0,0]] for row in range(Num_Pieces)]\n",
    "\n",
    "    def does_Choice_fit(self, choice: Choice) -> bool:\n",
    "        if choice.piece.x_dim + choice.x_pos > self.x_dim:\n",
    "            return False\n",
    "        if choice.piece.y_dim + choice.y_pos > self.y_dim:\n",
    "            return False\n",
    "        for i in range(choice.piece.x_dim):\n",
    "            for j in range(choice.piece.y_dim):\n",
    "                if self.board[choice.x_pos + i][choice.y_pos + j]:\n",
    "                    return False\n",
    "        return True\n",
    "    \n",
    "    def get_Choice (self, piece: Piece) -> Choice:\n",
    "        for i in range(self.x_dim):  # Recorre todas las posiciones del espacio\n",
    "            for j in range(self.y_dim):\n",
    "                posible = Choice(piece, i, j)\n",
    "                if self.does_Choice_fit(posible):\n",
    "                    return Choice(piece, i, j)\n",
    "        return Choice(piece, -1, -1)\n",
    "                \n",
    "    def place_Choice(self, choice: Choice, order: int):\n",
    "        for i in range(choice.piece.x_dim):\n",
    "            for j in range(choice.piece.y_dim):\n",
    "                self.board[choice.x_pos + i][choice.y_pos + j] = True\n",
    "        self.used_pieces[Pieces.index(choice.piece)] = True\n",
    "        self.pieces_order[Pieces.index(choice.piece)] = order\n",
    "        self.pieces_pos[Pieces.index(choice.piece)] = [[choice.x_pos,choice.y_pos],[choice.x_pos + choice.piece.x_dim-1,choice.y_pos + choice.piece.y_dim-1]]\n",
    "\n",
    "    def does_use_piece(self, piece: Piece):\n",
    "        return self.used_pieces[Pieces.index(piece)]\n",
    "    \n",
    "    def get_piece_order(self, piece: Piece):\n",
    "        return self.pieces_order[Pieces.index(piece)]\n",
    "    \n",
    "    def piece_in_pos(self, x, y):\n",
    "        i = 0\n",
    "        for piece in self.pieces_pos:\n",
    "            if x>= piece[0][0] and x <= piece[1][0]:\n",
    "                if y>= piece[0][1] and y <= piece[1][1]:\n",
    "                    return i\n",
    "            i = i + 1\n",
    "        return -1\n",
    "\n",
    "\n",
    "\n",
    "    \n",
    "    def huecos (self) -> list:\n",
    "        board_copy = copy.deepcopy(self.board)\n",
    "        array = []\n",
    "        for i in range(self.x_dim):\n",
    "            for j in range(self.y_dim):\n",
    "                if board_copy[i][j] == 0:\n",
    "                    board_copy[i][j] = 1\n",
    "                    array.append(explore_adyacent(board_copy, i, j))\n",
    "        return array\n",
    "\n",
    "    def evaluate_fitness(self) -> float: \n",
    "        espacios = self.huecos()\n",
    "        value = 100\n",
    "        value = value - len(espacios) * 5 #penalizar numero de huecos\n",
    "        for hueco in espacios:\n",
    "            value = value - (1/hueco) * 3\n",
    "        return clamp(value)"
   ]
  },
  {
   "cell_type": "code",
   "execution_count": 112,
   "metadata": {},
   "outputs": [],
   "source": [
    "class Pheromone:\n",
    "    def __init__(self):\n",
    "        self.placed = 0.5 #considero si esta colocado o no como una feromona\n",
    "        self.placeOrder = [0.5 for i in range(Num_Pieces)] #cada posicion indica el orden en el que se coloca la pieza"
   ]
  },
  {
   "cell_type": "markdown",
   "metadata": {},
   "source": [
    "Constantes"
   ]
  },
  {
   "cell_type": "code",
   "execution_count": 113,
   "metadata": {},
   "outputs": [],
   "source": [
    "numberOfIterations = 10\n",
    "Board_side = 20\n",
    "Num_Pieces = 50\n",
    "Alpha  = 0.5\n",
    "Beta   = 0.5\n",
    "Pieces = Piece.generate_random_pieces(Num_Pieces, 4)\n",
    "bestFitnessEvolution = []\n",
    "mediaFitnessEvolution = []\n",
    "pheromoneHistory = []"
   ]
  },
  {
   "cell_type": "markdown",
   "metadata": {},
   "source": [
    "Utilidades"
   ]
  },
  {
   "cell_type": "code",
   "execution_count": 114,
   "metadata": {},
   "outputs": [],
   "source": [
    "def clamp(value):\n",
    "    if value > 0:\n",
    "        return min(value, 1)\n",
    "    else: \n",
    "        return max (value, 0)\n",
    "    \n",
    "def explore_adyacent(temp, x, y): #hay que marcar la celda inicial antes de llamarla\n",
    "    area = 0\n",
    "    # Verificar si la celda adyacente está dentro de los límites del espacio\n",
    "    if x + 1 < len(temp) and temp[x+1][y] == 0:\n",
    "        temp[x+1][y] = 1\n",
    "        area += explore_adyacent(temp, x+1, y)\n",
    "    if x - 1 >= 0 and temp[x-1][y] == 0:\n",
    "        temp[x-1][y] = 1\n",
    "        area += explore_adyacent(temp, x-1, y)\n",
    "    if y + 1 < len(temp[0]) and temp[x][y+1] == 0:\n",
    "        temp[x][y+1] = 1\n",
    "        area += explore_adyacent(temp, x, y+1)\n",
    "    if y - 1 >= 0 and temp[x][y-1] == 0:\n",
    "        temp[x][y-1] = 1\n",
    "        area += explore_adyacent(temp, x, y-1)\n",
    "    if temp[x][y]:\n",
    "        area += 1\n",
    "    return area"
   ]
  },
  {
   "cell_type": "markdown",
   "metadata": {},
   "source": [
    "Functions"
   ]
  },
  {
   "cell_type": "code",
   "execution_count": 115,
   "metadata": {},
   "outputs": [],
   "source": [
    "def initialize_pheromones(): #creo un array donde cada pieza tiene una pos y un array de feromona\n",
    "    Pheromones = [Pheromone() for i in range(Num_Pieces)]\n",
    "    return Pheromones"
   ]
  },
  {
   "cell_type": "code",
   "execution_count": 116,
   "metadata": {},
   "outputs": [],
   "source": [
    "def update_pheromones(Pheromones, Solution_list):\n",
    "    New_Pheromones = Pheromones\n",
    "\n",
    "    #Pheromones affected by evaporation\n",
    "    for j in New_Pheromones:\n",
    "        j.placed = (1 - 0.8) * j.placed\n",
    "        for i in range(len(j.placeOrder)):\n",
    "            j.placeOrder[i] = (1 - 0.8) * j.placeOrder[i]\n",
    "\n",
    "    #Pheromones affected by pheromone amount\n",
    "    #Fittnes of solution multiply by 0.7\n",
    "    for tempSol in Solution_list:\n",
    "        tempFit = tempSol.evaluate_fitness() * 0.7\n",
    "        for tempPieza in range(len(Pieces)):\n",
    "            if(tempSol.does_use_piece(Pieces[tempPieza])):\n",
    "                New_Pheromones[tempPieza].placed = min(New_Pheromones[tempPieza].placed + tempFit, 1)\n",
    "                tempPosition = tempSol.get_piece_order(Pieces[tempPieza])\n",
    "                New_Pheromones[tempPieza].placeOrder[tempPosition] = min(New_Pheromones[tempPieza].placed + tempFit, 1)\n",
    "            else:\n",
    "                New_Pheromones[tempPieza].placed = max(New_Pheromones[tempPieza].placed - (tempFit * 0.6), 0)\n",
    "\n",
    "    return New_Pheromones"
   ]
  },
  {
   "cell_type": "code",
   "execution_count": 117,
   "metadata": {},
   "outputs": [],
   "source": [
    "def get_candidates(solution: Solution) -> list:\n",
    "    Candidates = []\n",
    "    for candidate in Pieces:\n",
    "        if not solution.does_use_piece(candidate):\n",
    "            choice = solution.get_Choice(candidate)\n",
    "            if choice.x_pos != -1:\n",
    "                Candidates.append(choice)               \n",
    "    return Candidates"
   ]
  },
  {
   "cell_type": "code",
   "execution_count": 118,
   "metadata": {},
   "outputs": [],
   "source": [
    "def heuristic(choice: Choice): #good place for experimentation\n",
    "    size = choice.piece.x_dim * choice.piece.y_dim\n",
    "    return size / (Board_side * Board_side)"
   ]
  },
  {
   "cell_type": "code",
   "execution_count": 119,
   "metadata": {},
   "outputs": [],
   "source": [
    "def calculate_probabilities(Candidates: list, Pheromones: list, order: int):\n",
    "    dividend = []\n",
    "    sum = 0\n",
    "    for i in range(0, len(Candidates)):\n",
    "        dividend.append(pow((Pheromones[i].placed * Pheromones[i].placeOrder[order]),Alpha) * pow(heuristic(Candidates[i]),Beta))\n",
    "        sum += dividend[i]\n",
    "\n",
    "    if sum == 0:\n",
    "        sum = 0.000001\n",
    "    for j in dividend:\n",
    "        j = j/sum\n",
    "    return dividend"
   ]
  },
  {
   "cell_type": "code",
   "execution_count": 120,
   "metadata": {},
   "outputs": [],
   "source": [
    "def random_choice(Candidates, Probabilities):\n",
    "    for i in range(len(Candidates)):\n",
    "        if random.random() < Probabilities[i]: #good option for experimenting an using other choosing algos\n",
    "            return Candidates[i]\n",
    "        return Candidates[len(Candidates)-1]"
   ]
  },
  {
   "cell_type": "code",
   "execution_count": 121,
   "metadata": {},
   "outputs": [],
   "source": [
    "def construct_solution(Pheromones: list) -> Solution:\n",
    "    solution = Solution(Board_side, Board_side)\n",
    "    Candidates = get_candidates(solution) #candidates are always valid\n",
    "    order = 0\n",
    "    while (len(Candidates) > 0):\n",
    "        Probabilities = calculate_probabilities(Candidates, Pheromones, order)\n",
    "        choice = random_choice(Candidates, Probabilities)\n",
    "        solution.place_Choice(choice, order)\n",
    "        Candidates = get_candidates(solution)\n",
    "        order = order + 1\n",
    "\n",
    "    return solution"
   ]
  },
  {
   "cell_type": "markdown",
   "metadata": {},
   "source": [
    "ACO"
   ]
  },
  {
   "cell_type": "code",
   "execution_count": 122,
   "metadata": {
    "tags": [
     "AA"
    ]
   },
   "outputs": [],
   "source": [
    "def ACO(n_ants):\n",
    "    Pheromones = initialize_pheromones()\n",
    "    mediaDeFitness = 0\n",
    "    best_fitness = 0\n",
    "    best_solution = []\n",
    "    i = 0\n",
    "    while (i < numberOfIterations):\n",
    "        Solution_list = []\n",
    "        for j in range(n_ants):\n",
    "            solution = construct_solution(Pheromones)\n",
    "            Solution_list.append(solution)\n",
    "            fitness = solution.evaluate_fitness()\n",
    "            mediaDeFitness = fitness + mediaDeFitness\n",
    "            if (fitness > best_fitness):\n",
    "                best_solution = solution\n",
    "                best_fitness = fitness\n",
    "        #guardo valores historicos para graficas\n",
    "        bestFitnessEvolution.append(best_fitness)\n",
    "        mediaFitnessEvolution.append(mediaDeFitness/n_ants)\n",
    "        mediaDeFitness = 0\n",
    "        #\n",
    "        for k in range(len(Pheromones)):\n",
    "            pheromoneHistory.append(Pheromones[k].placeOrder)\n",
    "\n",
    "        Pheromones = update_pheromones(Pheromones, Solution_list)\n",
    "\n",
    "        i = i + 1 \n",
    "    return best_solution"
   ]
  },
  {
   "cell_type": "code",
   "execution_count": 123,
   "metadata": {},
   "outputs": [
    {
     "name": "stdout",
     "output_type": "stream",
     "text": [
      "|  049  049  049  041  041  036  036  036  036  021  021  014  012  007  007  007  003  003  003  ·  |\n",
      "|  049  049  049  041  041  036  036  036  036  021  021  014  012  007  007  007  003  003  003  ·  |\n",
      "|  048  048  048  041  041  036  036  036  036  021  021  014  012  007  007  007  003  003  003  ·  |\n",
      "|  048  048  048  041  041  036  036  036  036  021  021  009  009  009  009  006  006  ·    ·    ·  |\n",
      "|  047  047  047  047  038  029  029  028  028  028  017  017  017  017  ·    006  006  ·    ·    ·  |\n",
      "|  047  047  047  047  038  027  027  028  028  028  017  017  017  017  ·    006  006  ·    ·    ·  |\n",
      "|  046  046  046  039  039  039  039  028  028  028  017  017  017  017  ·    006  006  ·    ·    ·  |\n",
      "|  046  046  046  039  039  039  039  028  028  028  016  005  005  008  008  008  008  ·    ·    ·  |\n",
      "|  046  046  046  033  037  034  032  025  025  025  016  ·    ·    008  008  008  008  ·    ·    ·  |\n",
      "|  045  045  045  045  037  034  032  025  025  025  015  015  015  008  008  008  008  ·    ·    ·  |\n",
      "|  045  045  045  045  035  034  032  025  025  025  015  015  015  008  008  008  008  ·    ·    ·  |\n",
      "|  045  045  045  045  035  034  032  025  025  025  015  015  015  000  ·    004  004  004  ·    ·  |\n",
      "|  045  045  045  045  035  026  026  026  026  018  018  018  018  000  ·    004  004  004  ·    ·  |\n",
      "|  044  042  042  040  040  040  040  024  024  024  024  013  013  013  013  004  004  004  ·    ·  |\n",
      "|  044  042  042  040  040  040  040  024  024  024  024  013  013  013  013  004  004  004  ·    ·  |\n",
      "|  044  042  042  040  040  040  040  024  024  024  024  013  013  013  013  ·    001  001  001  001|\n",
      "|  044  042  042  040  040  040  040  024  024  024  024  ·    011  011  011  011  001  001  001  001|\n",
      "|  043  043  043  043  031  030  023  023  ·    019  019  019  011  011  011  011  001  001  001  001|\n",
      "|  043  043  043  043  031  030  022  020  020  019  019  019  011  011  011  011  001  001  001  001|\n",
      "|  043  043  043  043  031  030  ·    020  020  010  010  010  002  002  002  ·    ·    ·    ·    ·  |\n",
      "0 1 2\n",
      "1 4 4\n",
      "2 3 1\n",
      "3 3 3\n",
      "4 3 4\n",
      "5 2 1\n",
      "6 2 4\n",
      "7 3 3\n",
      "8 4 4\n",
      "9 4 1\n",
      "10 3 1\n",
      "11 4 3\n",
      "12 1 3\n",
      "13 4 3\n",
      "14 1 3\n",
      "15 3 3\n",
      "16 1 2\n",
      "17 4 3\n",
      "18 4 1\n",
      "19 3 2\n",
      "20 2 2\n",
      "21 2 4\n",
      "22 1 1\n",
      "23 2 1\n",
      "24 4 4\n",
      "25 3 4\n",
      "26 4 1\n",
      "27 2 1\n",
      "28 3 4\n",
      "29 2 1\n",
      "30 1 3\n",
      "31 1 3\n",
      "32 1 4\n",
      "33 1 1\n",
      "34 1 4\n",
      "35 1 3\n",
      "36 4 4\n",
      "37 1 2\n",
      "38 1 2\n",
      "39 4 2\n",
      "40 4 4\n",
      "41 2 4\n",
      "42 2 4\n",
      "43 4 3\n",
      "44 1 4\n",
      "45 4 4\n",
      "46 3 3\n",
      "47 4 2\n",
      "48 3 2\n",
      "49 3 2\n"
     ]
    }
   ],
   "source": [
    "sol = ACO(5)\n",
    "board = sol.board\n",
    "\n",
    "for i in range (Board_side):\n",
    "    print('|', end='')  \n",
    "    for j in range (Board_side):\n",
    "        if sol.piece_in_pos(j, i) != -1:\n",
    "            print(' ',\"{:03d}\".format(sol.piece_in_pos(j, i)), end='')\n",
    "        else:\n",
    "            print(\"  ·  \", end= '')\n",
    "    print('|')    \n",
    "\n",
    "i = 0\n",
    "for piece in Pieces:\n",
    "    print(i, piece.x_dim, piece.y_dim)\n",
    "    i = i + 1"
   ]
  },
  {
   "cell_type": "markdown",
   "metadata": {},
   "source": [
    "Graficas"
   ]
  },
  {
   "cell_type": "code",
   "execution_count": 124,
   "metadata": {},
   "outputs": [
    {
     "data": {
      "text/plain": [
       "<matplotlib.legend.Legend at 0x20b592537f0>"
      ]
     },
     "execution_count": 124,
     "metadata": {},
     "output_type": "execute_result"
    },
    {
     "data": {
      "image/png": "[encoded data removed]",
      "text/plain": [
       "<Figure size 500x500 with 1 Axes>"
      ]
     },
     "metadata": {},
     "output_type": "display_data"
    }
   ],
   "source": [
    "#Fitness evolution\n",
    "sns.set_style('darkgrid')\n",
    "\n",
    "best_fitness = np.array(bestFitnessEvolution)\n",
    "media_fitness = np.array(mediaFitnessEvolution)\n",
    "\n",
    "fig, axs = plt.subplots(figsize=(5,5))\n",
    "axs.set_title('Fitness evolution')\n",
    "axs.set_xlabel('Iterations')\n",
    "axs.set_ylabel('Fitness')\n",
    "\n",
    "axs.plot(best_fitness, label='best_high')\n",
    "axs.plot(media_fitness, label='media')\n",
    "\n",
    "plt.legend()"
   ]
  },
  {
   "cell_type": "code",
   "execution_count": 125,
   "metadata": {},
   "outputs": [
    {
     "data": {
      "text/plain": [
       "<Axes: >"
      ]
     },
     "execution_count": 125,
     "metadata": {},
     "output_type": "execute_result"
    },
    {
     "data": {
      "image/png": "[encoded data removed]",
      "text/plain": [
       "<Figure size 640x480 with 2 Axes>"
      ]
     },
     "metadata": {},
     "output_type": "display_data"
    }
   ],
   "source": [
    "#Feromone evolution\n",
    "pheromoneHistory = np.array(pheromoneHistory)\n",
    "sns.heatmap(pheromoneHistory, cmap='Blues', xticklabels=100, yticklabels=100)"
   ]
  }
 ],
 "metadata": {
  "kernelspec": {
   "display_name": "Python 3",
   "language": "python",
   "name": "python3"
  },
  "language_info": {
   "codemirror_mode": {
    "name": "ipython",
    "version": 3
   },
   "file_extension": ".py",
   "mimetype": "text/x-python",
   "name": "python",
   "nbconvert_exporter": "python",
   "pygments_lexer": "ipython3",
   "version": "3.9.6"
  }
 },
 "nbformat": 4,
 "nbformat_minor": 2
}
