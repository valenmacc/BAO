{
 "cells": [
  {
   "cell_type": "markdown",
   "metadata": {},
   "source": [
    "### Imports"
   ]
  },
  {
   "cell_type": "code",
   "execution_count": null,
   "metadata": {},
   "outputs": [],
   "source": [
    "import copy\n",
    "from typing import List, Dict\n",
    "import random\n",
    "import inspyred\n",
    "import matplotlib.pyplot as plt\n",
    "import seaborn as sns\n",
    "import numpy as np"
   ]
  },
  {
   "cell_type": "markdown",
   "metadata": {},
   "source": [
    "## ACO"
   ]
  },
  {
   "cell_type": "markdown",
   "metadata": {},
   "source": [
    "### Clases"
   ]
  },
  {
   "cell_type": "code",
   "execution_count": null,
   "metadata": {},
   "outputs": [],
   "source": [
    "class Piece:\n",
    "    def __init__(self, x_dim: int, y_dim: int):\n",
    "        self.x_dim = x_dim\n",
    "        self.y_dim = y_dim\n",
    "\n",
    "    def generate_random_pieces(cardinality, max_size) -> list:\n",
    "        pieces = []\n",
    "        for i in range(cardinality):\n",
    "            pieces.append(Piece(random.randint(1, max_size),random.randint(1, max_size)))\n",
    "        return pieces"
   ]
  },
  {
   "cell_type": "code",
   "execution_count": null,
   "metadata": {},
   "outputs": [],
   "source": [
    "class Choice:\n",
    "    def __init__(self, piece: Piece, x_pos: int, y_pos: int):\n",
    "        self.piece = piece\n",
    "        self.x_pos = x_pos\n",
    "        self.y_pos = y_pos"
   ]
  },
  {
   "cell_type": "code",
   "execution_count": null,
   "metadata": {},
   "outputs": [],
   "source": [
    "class Solution:\n",
    "    def __init__(self, x_dim: int, y_dim: int):\n",
    "        self.x_dim = x_dim\n",
    "        self.y_dim = y_dim\n",
    "        self.board = [[False for column in range(x_dim)] for row in range(y_dim)]\n",
    "        self.used_pieces = [False for row in range(Num_Pieces)]\n",
    "        self.pieces_order = [0 for row in range(Num_Pieces)]\n",
    "        self.pieces_pos = [[[0,0],[0,0]] for row in range(Num_Pieces)]\n",
    "\n",
    "    def does_Choice_fit(self, choice: Choice) -> bool:\n",
    "        if choice.piece.x_dim + choice.x_pos > self.x_dim:\n",
    "            return False\n",
    "        if choice.piece.y_dim + choice.y_pos > self.y_dim:\n",
    "            return False\n",
    "        for i in range(choice.piece.x_dim):\n",
    "            for j in range(choice.piece.y_dim):\n",
    "                if self.board[choice.x_pos + i][choice.y_pos + j]:\n",
    "                    return False\n",
    "        return True\n",
    "    \n",
    "    def get_Choice (self, piece: Piece) -> Choice:\n",
    "        for i in range(self.x_dim):  # Recorre todas las posiciones del espacio\n",
    "            for j in range(self.y_dim):\n",
    "                posible = Choice(piece, i, j)\n",
    "                if self.does_Choice_fit(posible):\n",
    "                    return Choice(piece, i, j)\n",
    "        return Choice(piece, -1, -1)\n",
    "                \n",
    "    def place_Choice(self, choice: Choice, order: int):\n",
    "        for i in range(choice.piece.x_dim):\n",
    "            for j in range(choice.piece.y_dim):\n",
    "                self.board[choice.x_pos + i][choice.y_pos + j] = True\n",
    "        self.used_pieces[Pieces.index(choice.piece)] = True\n",
    "        self.pieces_order[Pieces.index(choice.piece)] = order\n",
    "        self.pieces_pos[Pieces.index(choice.piece)] = [[choice.x_pos,choice.y_pos],[choice.x_pos + choice.piece.x_dim-1,choice.y_pos + choice.piece.y_dim-1]]\n",
    "\n",
    "    def does_use_piece(self, piece: Piece):\n",
    "        return self.used_pieces[Pieces.index(piece)]\n",
    "    \n",
    "    def get_piece_order(self, piece: Piece):\n",
    "        return self.pieces_order[Pieces.index(piece)]\n",
    "    \n",
    "    def piece_in_pos(self, x, y):\n",
    "        i = 0\n",
    "        for piece in self.pieces_pos:\n",
    "            if x>= piece[0][0] and x <= piece[1][0]:\n",
    "                if y>= piece[0][1] and y <= piece[1][1]:\n",
    "                    return i\n",
    "            i = i + 1\n",
    "        return -1\n",
    "\n",
    "\n",
    "\n",
    "    \n",
    "    def huecos (self) -> list:\n",
    "        board_copy = copy.deepcopy(self.board)\n",
    "        array = []\n",
    "        for i in range(self.x_dim):\n",
    "            for j in range(self.y_dim):\n",
    "                if board_copy[i][j] == 0:\n",
    "                    board_copy[i][j] = 1\n",
    "                    array.append(explore_adyacent(board_copy, i, j))\n",
    "        return array\n",
    "\n",
    "    def evaluate_fitness(self) -> float: \n",
    "        espacios = self.huecos()\n",
    "        value = 100\n",
    "        value = value - len(espacios) * 5 #penalizar numero de huecos\n",
    "        for hueco in espacios:\n",
    "            value = value - (1/hueco) * 3\n",
    "        return value"
   ]
  },
  {
   "cell_type": "code",
   "execution_count": null,
   "metadata": {},
   "outputs": [],
   "source": [
    "class Pheromone:\n",
    "    def __init__(self):\n",
    "        self.placed = 1 #considero si esta colocado o no como una feromona\n",
    "        self.placeOrder = [1 for i in range(Num_Pieces)] #cada posicion indica el orden en el que se coloca la pieza"
   ]
  },
  {
   "cell_type": "markdown",
   "metadata": {},
   "source": [
    "### Constantes"
   ]
  },
  {
   "cell_type": "code",
   "execution_count": null,
   "metadata": {},
   "outputs": [],
   "source": [
    "numberOfIterations = 70\n",
    "Board_side = 30\n",
    "Num_Pieces = 80\n",
    "Alpha  = 0.6\n",
    "Beta   = 0.5\n",
    "Max_size_pieces = 15\n",
    "Pieces = Piece.generate_random_pieces(Num_Pieces, Max_size_pieces)\n",
    "bestFitnessEvolution = []\n",
    "mediaFitnessEvolution = []\n",
    "pheromoneHistory = []"
   ]
  },
  {
   "cell_type": "markdown",
   "metadata": {},
   "source": [
    "### Utilidades"
   ]
  },
  {
   "cell_type": "code",
   "execution_count": null,
   "metadata": {},
   "outputs": [],
   "source": [
    "def clamp(value):\n",
    "    if value > 0:\n",
    "        return min(value, 1)\n",
    "    else: \n",
    "        return max (value, 0)\n",
    "    \n",
    "def clampOf100(value):\n",
    "    if value > 100:\n",
    "        return min(value, 100)\n",
    "    else: \n",
    "        return max (value, 0)\n",
    "    \n",
    "def explore_adyacent(temp, x, y): #hay que marcar la celda inicial antes de llamarla\n",
    "    area = 0\n",
    "    # Verificar si la celda adyacente está dentro de los límites del espacio\n",
    "    if x + 1 < len(temp) and temp[x+1][y] == 0:\n",
    "        temp[x+1][y] = 1\n",
    "        area += explore_adyacent(temp, x+1, y)\n",
    "    if x - 1 >= 0 and temp[x-1][y] == 0:\n",
    "        temp[x-1][y] = 1\n",
    "        area += explore_adyacent(temp, x-1, y)\n",
    "    if y + 1 < len(temp[0]) and temp[x][y+1] == 0:\n",
    "        temp[x][y+1] = 1\n",
    "        area += explore_adyacent(temp, x, y+1)\n",
    "    if y - 1 >= 0 and temp[x][y-1] == 0:\n",
    "        temp[x][y-1] = 1\n",
    "        area += explore_adyacent(temp, x, y-1)\n",
    "    if temp[x][y]:\n",
    "        area += 1\n",
    "    return area\n",
    "\n",
    "def printSol (sol:Solution):\n",
    "    for i in range (Board_side):\n",
    "        print('|', end='')  \n",
    "        for j in range (Board_side):\n",
    "            if sol.piece_in_pos(j, i) != -1:\n",
    "                print(' ',\"{:03d}\".format(sol.piece_in_pos(j, i)), end='')\n",
    "            else:\n",
    "                print(\"  ·  \", end= '')\n",
    "        print('|')    \n",
    "\n",
    "    i = 0\n",
    "    for piece in Pieces:\n",
    "        print(i, piece.x_dim, piece.y_dim)\n",
    "        i = i + 1"
   ]
  },
  {
   "cell_type": "markdown",
   "metadata": {},
   "source": [
    "### Functions"
   ]
  },
  {
   "cell_type": "code",
   "execution_count": null,
   "metadata": {},
   "outputs": [],
   "source": [
    "def initialize_pheromones(): #creo un array donde cada pieza tiene una pos y un array de feromona\n",
    "    Pheromones = [Pheromone() for i in range(Num_Pieces)]\n",
    "    return Pheromones"
   ]
  },
  {
   "cell_type": "code",
   "execution_count": null,
   "metadata": {},
   "outputs": [],
   "source": [
    "def update_pheromones(Pheromones, Solution_list):\n",
    "    New_Pheromones = Pheromones\n",
    "\n",
    "    #Pheromones affected by evaporation\n",
    "    for j in New_Pheromones:\n",
    "        j.placed = clampOf100((1 - 0.8) * j.placed)\n",
    "        for i in range(len(j.placeOrder)):\n",
    "            j.placeOrder[i] = clampOf100((1 - 0.3) * j.placeOrder[i])\n",
    "\n",
    "    #Pheromones affected by pheromone amount\n",
    "    #Fittnes of solution multiply by 0.7\n",
    "    for tempSol in Solution_list:\n",
    "        tempFit = clampOf100(tempSol.evaluate_fitness() * 0.3)\n",
    "        for tempPieza in range(len(Pieces)):\n",
    "            if(tempSol.does_use_piece(Pieces[tempPieza])):\n",
    "                New_Pheromones[tempPieza].placed = clampOf100(New_Pheromones[tempPieza].placed + tempFit)\n",
    "                tempPosition = tempSol.get_piece_order(Pieces[tempPieza])\n",
    "                New_Pheromones[tempPieza].placeOrder[tempPosition] = clampOf100(New_Pheromones[tempPieza].placed + tempFit)\n",
    "            else:\n",
    "                New_Pheromones[tempPieza].placed = clampOf100(New_Pheromones[tempPieza].placed - (tempFit * 0.6))\n",
    "\n",
    "    return New_Pheromones"
   ]
  },
  {
   "cell_type": "code",
   "execution_count": null,
   "metadata": {},
   "outputs": [],
   "source": [
    "def get_candidates(solution: Solution) -> list:\n",
    "    Candidates = []\n",
    "    for candidate in Pieces:\n",
    "        if not solution.does_use_piece(candidate):\n",
    "            choice = solution.get_Choice(candidate)\n",
    "            if choice.x_pos != -1:\n",
    "                Candidates.append(choice)               \n",
    "    return Candidates"
   ]
  },
  {
   "cell_type": "code",
   "execution_count": null,
   "metadata": {},
   "outputs": [],
   "source": [
    "def heuristic(choice: Choice): #good place for experimentation\n",
    "    size = choice.piece.x_dim * choice.piece.y_dim\n",
    "    return size / (Board_side * Board_side)"
   ]
  },
  {
   "cell_type": "code",
   "execution_count": null,
   "metadata": {},
   "outputs": [],
   "source": [
    "def calculate_probabilities(Candidates: list, Pheromones: list, order: int):\n",
    "    dividend = []\n",
    "    sum = 0\n",
    "    for i in range(0, len(Candidates)):\n",
    "        dividend.append(pow((Pheromones[i].placed * Pheromones[i].placeOrder[order]),Alpha) * pow(heuristic(Candidates[i]),Beta))\n",
    "        sum += dividend[i]\n",
    "\n",
    "    if sum == 0:\n",
    "        sum = 0.000001\n",
    "    for j in dividend:\n",
    "        j = j/sum\n",
    "    return dividend"
   ]
  },
  {
   "cell_type": "code",
   "execution_count": null,
   "metadata": {},
   "outputs": [],
   "source": [
    "def random_choice(Candidates, Probabilities):\n",
    "    for i in range(len(Candidates)):\n",
    "        if random.random() < Probabilities[i]: #good option for experimenting an using other choosing algos\n",
    "            return Candidates[i]\n",
    "    return False"
   ]
  },
  {
   "cell_type": "code",
   "execution_count": null,
   "metadata": {},
   "outputs": [],
   "source": [
    "def construct_solution(Pheromones: list) -> Solution:\n",
    "    solution = Solution(Board_side, Board_side)\n",
    "    Candidates = get_candidates(solution) #candidates are always valid\n",
    "    order = 0\n",
    "    while (len(Candidates) > 0):\n",
    "        Probabilities = calculate_probabilities(Candidates, Pheromones, order)\n",
    "        choice = random_choice(Candidates, Probabilities)\n",
    "        if choice != False:\n",
    "            solution.place_Choice(choice, order)\n",
    "            Candidates = get_candidates(solution)\n",
    "            order = order + 1\n",
    "        #else:\n",
    "        #    return solution\n",
    "\n",
    "    return solution"
   ]
  },
  {
   "cell_type": "markdown",
   "metadata": {},
   "source": [
    "### ACO definition"
   ]
  },
  {
   "cell_type": "code",
   "execution_count": null,
   "metadata": {},
   "outputs": [],
   "source": [
    "def ACO(n_ants):\n",
    "    Pheromones = initialize_pheromones()\n",
    "    mediaDeFitness = 0\n",
    "    best_fitness = 0\n",
    "    best_solution = []\n",
    "    i = 0\n",
    "    while (i < numberOfIterations):\n",
    "        Solution_list = []\n",
    "        for j in range(n_ants):\n",
    "            solution = construct_solution(Pheromones)\n",
    "            Solution_list.append(solution)\n",
    "            fitness = solution.evaluate_fitness()\n",
    "            mediaDeFitness = fitness + mediaDeFitness\n",
    "            if (fitness > best_fitness):\n",
    "                best_solution = solution\n",
    "                best_fitness = fitness\n",
    "        #guardo valores historicos para graficas\n",
    "        bestFitnessEvolution.append(best_fitness)\n",
    "        mediaFitnessEvolution.append(mediaDeFitness/n_ants)\n",
    "        mediaDeFitness = 0\n",
    "        #\n",
    "        for k in range(len(Pheromones)):\n",
    "            pheromoneHistory.append(Pheromones[k].placeOrder)\n",
    "\n",
    "        Pheromones = update_pheromones(Pheromones, Solution_list)\n",
    "\n",
    "        i = i + 1 \n",
    "    return best_solution"
   ]
  },
  {
   "cell_type": "code",
   "execution_count": null,
   "metadata": {},
   "outputs": [],
   "source": [
    "sol = ACO(10)\n",
    "\n",
    "printSol(sol)\n",
    "print(\"Fitness:\", sol.evaluate_fitness())"
   ]
  },
  {
   "cell_type": "markdown",
   "metadata": {},
   "source": [
    "### Graficas"
   ]
  },
  {
   "cell_type": "code",
   "execution_count": null,
   "metadata": {},
   "outputs": [],
   "source": [
    "#Fitness evolution\n",
    "sns.set_style('darkgrid')\n",
    "\n",
    "best_fitness = np.array(bestFitnessEvolution)\n",
    "media_fitness = np.array(mediaFitnessEvolution)\n",
    "\n",
    "fig, axs = plt.subplots(figsize=(5,5))\n",
    "axs.set_title('Fitness evolution')\n",
    "axs.set_xlabel('Iterations')\n",
    "axs.set_ylabel('Fitness')\n",
    "\n",
    "axs.plot(best_fitness, label='best_high')\n",
    "axs.plot(media_fitness, label='media')\n",
    "\n",
    "plt.legend()"
   ]
  },
  {
   "cell_type": "code",
   "execution_count": null,
   "metadata": {},
   "outputs": [],
   "source": [
    "#Feromone evolution\n",
    "pheromoneHistory = np.array(pheromoneHistory)\n",
    "sns.heatmap(pheromoneHistory, cmap='Blues', xticklabels=100, yticklabels=100)"
   ]
  },
  {
   "cell_type": "markdown",
   "metadata": {},
   "source": [
    "### Test"
   ]
  },
  {
   "cell_type": "code",
   "execution_count": null,
   "metadata": {},
   "outputs": [],
   "source": [
    "Alpha  = 0.0\n",
    "Beta   = 0.0\n",
    "bestFitnessEvolution = []\n",
    "mediaFitnessEvolution = []\n",
    "pheromoneHistory = []\n",
    "\n",
    "#random test\n",
    "sol = ACO(10)\n",
    "printSol(sol)\n",
    "print(\"Fitness:\", sol.evaluate_fitness())"
   ]
  },
  {
   "cell_type": "markdown",
   "metadata": {},
   "source": [
    "## Genetic"
   ]
  },
  {
   "cell_type": "markdown",
   "metadata": {},
   "source": [
    "### Clases"
   ]
  },
  {
   "cell_type": "code",
   "execution_count": null,
   "metadata": {},
   "outputs": [],
   "source": [
    "class Piece:\n",
    "    def __init__(self, x_dim: int, y_dim: int):\n",
    "        self.x_dim = x_dim\n",
    "        self.y_dim = y_dim\n",
    "\n",
    "    def generate_random_pieces(cardinality, max_size) -> list:\n",
    "        pieces = []\n",
    "        for i in range(cardinality):\n",
    "            pieces.append(Piece(random.randint(0, max_size),random.randint(0, max_size)))\n",
    "        return pieces\n",
    "\n",
    "class RectanglePacking(inspyred.benchmarks.Benchmark): \n",
    "\n",
    "    def __init__(self, space):\n",
    "        super(RectanglePacking, self).__init__(2)\n",
    "        self.space = space\n",
    "        self.bounder = inspyred.ec.Bounder([0, 0], [len(space), len(space[0])])\n",
    "        self.maximize = True  # Queremos maximizar la cantidad de espacio utilizado\n",
    "\n",
    "    \n",
    "    \n",
    "    def generator(self, random, args):\n",
    "        pieces = []\n",
    "        for i in range(Num_Pieces):\n",
    "            sizex = random.randint(1, Max_size_pieces)\n",
    "            sizey = random.randint(1, Max_size_pieces)\n",
    "            pieza = [[1 for column in range(sizex)] for row in range(sizey)]\n",
    "            pieces.append(pieza)\n",
    "        return pieces\n",
    "\n",
    "\n",
    "    def clamp_to_zero(number):\n",
    "        if number < 0:\n",
    "            return 0\n",
    "        else:\n",
    "            return number\n",
    "    \n",
    "    def imprimir_espacio(space):\n",
    "        for row in space:\n",
    "            print(\"  \".join(map(str, row)))\n",
    "        print()\n",
    "        \n",
    "\n",
    "    def evaluator(self, candidates, args):\n",
    "        fitness = []\n",
    "        for candidate in candidates:\n",
    "            total_area = 0\n",
    "            space_copy = copy.deepcopy(self.space)  # Creamos una copia del espacio original para no modificarlo\n",
    "            for piece in candidate:\n",
    "                placed = False\n",
    "                for i in range(len(space_copy) - len(piece[0]) + 1):\n",
    "                    for j in range(len(space_copy[0]) - len(piece) + 1):\n",
    "                        if self.is_space_available(space_copy, j, i, len(piece), len(piece[0])):\n",
    "                            placed = True\n",
    "                            for x in range(len(piece[0])):\n",
    "                                for y in range(len(piece)):\n",
    "                                    space_copy[i + x][j + y] = 1\n",
    "                            total_area += len(piece) * len(piece[0])\n",
    "                            break\n",
    "                    if placed:\n",
    "                        break\n",
    "            fitness.append(total_area)\n",
    "        return fitness\n",
    "\n",
    "    def is_space_available(self, space, x, y, width, height):\n",
    "        for i in range(y, y + height):\n",
    "            for j in range(x, x + width):\n",
    "                if space[i][j] != 0:\n",
    "                    return False\n",
    "        return True"
   ]
  },
  {
   "cell_type": "markdown",
   "metadata": {},
   "source": [
    "### Functions"
   ]
  },
  {
   "cell_type": "code",
   "execution_count": null,
   "metadata": {},
   "outputs": [],
   "source": [
    "def colocar_pieza(space, pieza, x, y):\n",
    "        temp = copy.deepcopy(space)  # Deep copy the space to avoid modifying the original\n",
    "        rect_x, rect_y, rect_width, rect_height = pieza \n",
    "        if rect_x + rect_width >= len(space) or rect_y + rect_height >= len(space[0]):\n",
    "            return False  # Return False if the piece goes out of bounds\n",
    "        for i in range(len(pieza)):\n",
    "            for j in range(len(pieza[0])):\n",
    "                # Check bounds\n",
    "                if space[x+i][y+j] == 1:\n",
    "                    return False  # Return False if there's an overlap\n",
    "                temp[x+i][y+j] = 1  # Place the piece in the temporary space\n",
    "        # Copy the modified temporary space back to the original space\n",
    "        for i in range(len(space)):\n",
    "            for j in range(len(space[0])):\n",
    "                space[i][j] = temp[i][j]\n",
    "        return True  # Return True if the piece was successfully placed"
   ]
  },
  {
   "cell_type": "markdown",
   "metadata": {},
   "source": [
    "### Genetic definition"
   ]
  },
  {
   "cell_type": "code",
   "execution_count": null,
   "metadata": {},
   "outputs": [],
   "source": [
    "ga = inspyred.ec.GA(random.Random())\n",
    "def GeneticExecution():\n",
    "    space = [[0 for column in range(Board_side)] for row in range(Board_side)]\n",
    "\n",
    "    # Usar la función de envoltura personalizada en lugar de gaussian_mutation directamente\n",
    "    problem = RectanglePacking(space)  # Definimos un espacio de 10x10\n",
    "    ga.selector = inspyred.ec.selectors.tournament_selection\n",
    "    ga.variator = [inspyred.ec.variators.uniform_crossover] #inspyred.ec.variators.gaussian_mutation((0.0,),(1.0,),{'_ec': ga}) no funciona\n",
    "    ga.replacer = inspyred.ec.replacers.generational_replacement\n",
    "    ga.terminator = inspyred.ec.terminators.generation_termination\n",
    "\n",
    "    # Ejecución del algoritmo genético\n",
    "    final_pop = ga.evolve(generator=problem.generator,\n",
    "                        evaluator=problem.evaluator,\n",
    "                        pop_size=10,\n",
    "                        maximize=problem.maximize,\n",
    "                        bounder=problem.bounder,\n",
    "                        max_generations=numberOfIterations)\n",
    "\n",
    "    # Mejor solución encontrada\n",
    "    best = max(final_pop)\n",
    "    return best"
   ]
  },
  {
   "cell_type": "markdown",
   "metadata": {},
   "source": [
    "### Test"
   ]
  },
  {
   "cell_type": "code",
   "execution_count": null,
   "metadata": {},
   "outputs": [],
   "source": [
    "solGen = GeneticExecution()\n",
    "print('Best Solution: {0}:'.format(str(solGen.candidate)))\n",
    "print(\"Fitness\",solGen.fitness)\n",
    "\n",
    "ga.selector = inspyred.ec.selectors.uniform_selection\n",
    "solGen = GeneticExecution()\n",
    "print('Best Solution: {0}:'.format(str(solGen.candidate)))\n",
    "print(\"Fitness\",solGen.fitness)"
   ]
  }
 ],
 "metadata": {
  "kernelspec": {
   "display_name": "Python 3",
   "language": "python",
   "name": "python3"
  },
  "language_info": {
   "codemirror_mode": {
    "name": "ipython",
    "version": 3
   },
   "file_extension": ".py",
   "mimetype": "text/x-python",
   "name": "python",
   "nbconvert_exporter": "python",
   "pygments_lexer": "ipython3",
   "version": "3.9.6"
  }
 },
 "nbformat": 4,
 "nbformat_minor": 2
}
